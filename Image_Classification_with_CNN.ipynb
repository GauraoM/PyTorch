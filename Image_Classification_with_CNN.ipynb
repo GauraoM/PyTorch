{
  "nbformat": 4,
  "nbformat_minor": 0,
  "metadata": {
    "colab": {
      "name": "Image Classification with CNN.ipynb",
      "provenance": [],
      "authorship_tag": "ABX9TyOxPbf7CguUKi5JR66LOz54",
      "include_colab_link": true
    },
    "kernelspec": {
      "name": "python3",
      "display_name": "Python 3"
    },
    "language_info": {
      "name": "python"
    },
    "widgets": {
      "application/vnd.jupyter.widget-state+json": {
        "e45cf3f74b3244b2a40b69d2ab932605": {
          "model_module": "@jupyter-widgets/controls",
          "model_name": "HBoxModel",
          "model_module_version": "1.5.0",
          "state": {
            "_dom_classes": [],
            "_model_module": "@jupyter-widgets/controls",
            "_model_module_version": "1.5.0",
            "_model_name": "HBoxModel",
            "_view_count": null,
            "_view_module": "@jupyter-widgets/controls",
            "_view_module_version": "1.5.0",
            "_view_name": "HBoxView",
            "box_style": "",
            "children": [
              "IPY_MODEL_7683baf24fc045b5b5aa33b7dfd8ad4e",
              "IPY_MODEL_f5ba7152852e4e0284f6c38aac57cf85",
              "IPY_MODEL_ddc115a7f2e848f790efd1aa10b4df42"
            ],
            "layout": "IPY_MODEL_b976b35830954642810f10c1591eaed8"
          }
        },
        "7683baf24fc045b5b5aa33b7dfd8ad4e": {
          "model_module": "@jupyter-widgets/controls",
          "model_name": "HTMLModel",
          "model_module_version": "1.5.0",
          "state": {
            "_dom_classes": [],
            "_model_module": "@jupyter-widgets/controls",
            "_model_module_version": "1.5.0",
            "_model_name": "HTMLModel",
            "_view_count": null,
            "_view_module": "@jupyter-widgets/controls",
            "_view_module_version": "1.5.0",
            "_view_name": "HTMLView",
            "description": "",
            "description_tooltip": null,
            "layout": "IPY_MODEL_777887ae656144219f6f531df9dc1ef8",
            "placeholder": "​",
            "style": "IPY_MODEL_f855b738b9f349d89063c6b2aa923e8d",
            "value": ""
          }
        },
        "f5ba7152852e4e0284f6c38aac57cf85": {
          "model_module": "@jupyter-widgets/controls",
          "model_name": "FloatProgressModel",
          "model_module_version": "1.5.0",
          "state": {
            "_dom_classes": [],
            "_model_module": "@jupyter-widgets/controls",
            "_model_module_version": "1.5.0",
            "_model_name": "FloatProgressModel",
            "_view_count": null,
            "_view_module": "@jupyter-widgets/controls",
            "_view_module_version": "1.5.0",
            "_view_name": "ProgressView",
            "bar_style": "success",
            "description": "",
            "description_tooltip": null,
            "layout": "IPY_MODEL_336f3da578b4466b9ecc810fb9191d49",
            "max": 135107811,
            "min": 0,
            "orientation": "horizontal",
            "style": "IPY_MODEL_0b4d2508ec234fbd95b75e4cfa2fe2bd",
            "value": 135107811
          }
        },
        "ddc115a7f2e848f790efd1aa10b4df42": {
          "model_module": "@jupyter-widgets/controls",
          "model_name": "HTMLModel",
          "model_module_version": "1.5.0",
          "state": {
            "_dom_classes": [],
            "_model_module": "@jupyter-widgets/controls",
            "_model_module_version": "1.5.0",
            "_model_name": "HTMLModel",
            "_view_count": null,
            "_view_module": "@jupyter-widgets/controls",
            "_view_module_version": "1.5.0",
            "_view_name": "HTMLView",
            "description": "",
            "description_tooltip": null,
            "layout": "IPY_MODEL_db046bcd57f9431e95e6c60f53c8a9bb",
            "placeholder": "​",
            "style": "IPY_MODEL_0189f88333d14ae993db9ae11802a49f",
            "value": " 135108608/? [00:02&lt;00:00, 51482532.28it/s]"
          }
        },
        "b976b35830954642810f10c1591eaed8": {
          "model_module": "@jupyter-widgets/base",
          "model_name": "LayoutModel",
          "model_module_version": "1.2.0",
          "state": {
            "_model_module": "@jupyter-widgets/base",
            "_model_module_version": "1.2.0",
            "_model_name": "LayoutModel",
            "_view_count": null,
            "_view_module": "@jupyter-widgets/base",
            "_view_module_version": "1.2.0",
            "_view_name": "LayoutView",
            "align_content": null,
            "align_items": null,
            "align_self": null,
            "border": null,
            "bottom": null,
            "display": null,
            "flex": null,
            "flex_flow": null,
            "grid_area": null,
            "grid_auto_columns": null,
            "grid_auto_flow": null,
            "grid_auto_rows": null,
            "grid_column": null,
            "grid_gap": null,
            "grid_row": null,
            "grid_template_areas": null,
            "grid_template_columns": null,
            "grid_template_rows": null,
            "height": null,
            "justify_content": null,
            "justify_items": null,
            "left": null,
            "margin": null,
            "max_height": null,
            "max_width": null,
            "min_height": null,
            "min_width": null,
            "object_fit": null,
            "object_position": null,
            "order": null,
            "overflow": null,
            "overflow_x": null,
            "overflow_y": null,
            "padding": null,
            "right": null,
            "top": null,
            "visibility": null,
            "width": null
          }
        },
        "777887ae656144219f6f531df9dc1ef8": {
          "model_module": "@jupyter-widgets/base",
          "model_name": "LayoutModel",
          "model_module_version": "1.2.0",
          "state": {
            "_model_module": "@jupyter-widgets/base",
            "_model_module_version": "1.2.0",
            "_model_name": "LayoutModel",
            "_view_count": null,
            "_view_module": "@jupyter-widgets/base",
            "_view_module_version": "1.2.0",
            "_view_name": "LayoutView",
            "align_content": null,
            "align_items": null,
            "align_self": null,
            "border": null,
            "bottom": null,
            "display": null,
            "flex": null,
            "flex_flow": null,
            "grid_area": null,
            "grid_auto_columns": null,
            "grid_auto_flow": null,
            "grid_auto_rows": null,
            "grid_column": null,
            "grid_gap": null,
            "grid_row": null,
            "grid_template_areas": null,
            "grid_template_columns": null,
            "grid_template_rows": null,
            "height": null,
            "justify_content": null,
            "justify_items": null,
            "left": null,
            "margin": null,
            "max_height": null,
            "max_width": null,
            "min_height": null,
            "min_width": null,
            "object_fit": null,
            "object_position": null,
            "order": null,
            "overflow": null,
            "overflow_x": null,
            "overflow_y": null,
            "padding": null,
            "right": null,
            "top": null,
            "visibility": null,
            "width": null
          }
        },
        "f855b738b9f349d89063c6b2aa923e8d": {
          "model_module": "@jupyter-widgets/controls",
          "model_name": "DescriptionStyleModel",
          "model_module_version": "1.5.0",
          "state": {
            "_model_module": "@jupyter-widgets/controls",
            "_model_module_version": "1.5.0",
            "_model_name": "DescriptionStyleModel",
            "_view_count": null,
            "_view_module": "@jupyter-widgets/base",
            "_view_module_version": "1.2.0",
            "_view_name": "StyleView",
            "description_width": ""
          }
        },
        "336f3da578b4466b9ecc810fb9191d49": {
          "model_module": "@jupyter-widgets/base",
          "model_name": "LayoutModel",
          "model_module_version": "1.2.0",
          "state": {
            "_model_module": "@jupyter-widgets/base",
            "_model_module_version": "1.2.0",
            "_model_name": "LayoutModel",
            "_view_count": null,
            "_view_module": "@jupyter-widgets/base",
            "_view_module_version": "1.2.0",
            "_view_name": "LayoutView",
            "align_content": null,
            "align_items": null,
            "align_self": null,
            "border": null,
            "bottom": null,
            "display": null,
            "flex": null,
            "flex_flow": null,
            "grid_area": null,
            "grid_auto_columns": null,
            "grid_auto_flow": null,
            "grid_auto_rows": null,
            "grid_column": null,
            "grid_gap": null,
            "grid_row": null,
            "grid_template_areas": null,
            "grid_template_columns": null,
            "grid_template_rows": null,
            "height": null,
            "justify_content": null,
            "justify_items": null,
            "left": null,
            "margin": null,
            "max_height": null,
            "max_width": null,
            "min_height": null,
            "min_width": null,
            "object_fit": null,
            "object_position": null,
            "order": null,
            "overflow": null,
            "overflow_x": null,
            "overflow_y": null,
            "padding": null,
            "right": null,
            "top": null,
            "visibility": null,
            "width": null
          }
        },
        "0b4d2508ec234fbd95b75e4cfa2fe2bd": {
          "model_module": "@jupyter-widgets/controls",
          "model_name": "ProgressStyleModel",
          "model_module_version": "1.5.0",
          "state": {
            "_model_module": "@jupyter-widgets/controls",
            "_model_module_version": "1.5.0",
            "_model_name": "ProgressStyleModel",
            "_view_count": null,
            "_view_module": "@jupyter-widgets/base",
            "_view_module_version": "1.2.0",
            "_view_name": "StyleView",
            "bar_color": null,
            "description_width": ""
          }
        },
        "db046bcd57f9431e95e6c60f53c8a9bb": {
          "model_module": "@jupyter-widgets/base",
          "model_name": "LayoutModel",
          "model_module_version": "1.2.0",
          "state": {
            "_model_module": "@jupyter-widgets/base",
            "_model_module_version": "1.2.0",
            "_model_name": "LayoutModel",
            "_view_count": null,
            "_view_module": "@jupyter-widgets/base",
            "_view_module_version": "1.2.0",
            "_view_name": "LayoutView",
            "align_content": null,
            "align_items": null,
            "align_self": null,
            "border": null,
            "bottom": null,
            "display": null,
            "flex": null,
            "flex_flow": null,
            "grid_area": null,
            "grid_auto_columns": null,
            "grid_auto_flow": null,
            "grid_auto_rows": null,
            "grid_column": null,
            "grid_gap": null,
            "grid_row": null,
            "grid_template_areas": null,
            "grid_template_columns": null,
            "grid_template_rows": null,
            "height": null,
            "justify_content": null,
            "justify_items": null,
            "left": null,
            "margin": null,
            "max_height": null,
            "max_width": null,
            "min_height": null,
            "min_width": null,
            "object_fit": null,
            "object_position": null,
            "order": null,
            "overflow": null,
            "overflow_x": null,
            "overflow_y": null,
            "padding": null,
            "right": null,
            "top": null,
            "visibility": null,
            "width": null
          }
        },
        "0189f88333d14ae993db9ae11802a49f": {
          "model_module": "@jupyter-widgets/controls",
          "model_name": "DescriptionStyleModel",
          "model_module_version": "1.5.0",
          "state": {
            "_model_module": "@jupyter-widgets/controls",
            "_model_module_version": "1.5.0",
            "_model_name": "DescriptionStyleModel",
            "_view_count": null,
            "_view_module": "@jupyter-widgets/base",
            "_view_module_version": "1.2.0",
            "_view_name": "StyleView",
            "description_width": ""
          }
        }
      }
    },
    "accelerator": "GPU"
  },
  "cells": [
    {
      "cell_type": "markdown",
      "metadata": {
        "id": "view-in-github",
        "colab_type": "text"
      },
      "source": [
        "<a href=\"https://colab.research.google.com/github/GauraoM/PyTorch/blob/main/Image_Classification_with_CNN.ipynb\" target=\"_parent\"><img src=\"https://colab.research.google.com/assets/colab-badge.svg\" alt=\"Open In Colab\"/></a>"
      ]
    },
    {
      "cell_type": "code",
      "execution_count": 1,
      "metadata": {
        "id": "r5o278uh5VhE"
      },
      "outputs": [],
      "source": [
        "import os\n",
        "import torch\n",
        "import torchvision\n",
        "import tarfile\n",
        "from torchvision.datasets.utils import download_url\n",
        "from torch.utils.data import random_split"
      ]
    },
    {
      "cell_type": "code",
      "source": [
        "# Download the dataset\n",
        "dataset_url = \"https://s3.amazonaws.com/fast-ai-imageclas/cifar10.tgz\"\n",
        "download_url(dataset_url, '.')"
      ],
      "metadata": {
        "colab": {
          "base_uri": "https://localhost:8080/",
          "height": 66,
          "referenced_widgets": [
            "e45cf3f74b3244b2a40b69d2ab932605",
            "7683baf24fc045b5b5aa33b7dfd8ad4e",
            "f5ba7152852e4e0284f6c38aac57cf85",
            "ddc115a7f2e848f790efd1aa10b4df42",
            "b976b35830954642810f10c1591eaed8",
            "777887ae656144219f6f531df9dc1ef8",
            "f855b738b9f349d89063c6b2aa923e8d",
            "336f3da578b4466b9ecc810fb9191d49",
            "0b4d2508ec234fbd95b75e4cfa2fe2bd",
            "db046bcd57f9431e95e6c60f53c8a9bb",
            "0189f88333d14ae993db9ae11802a49f"
          ]
        },
        "id": "CZddEDyx50W2",
        "outputId": "b4183f79-93b5-4a81-88b8-c775c0d45499"
      },
      "execution_count": 2,
      "outputs": [
        {
          "output_type": "stream",
          "name": "stdout",
          "text": [
            "Downloading https://s3.amazonaws.com/fast-ai-imageclas/cifar10.tgz to ./cifar10.tgz\n"
          ]
        },
        {
          "output_type": "display_data",
          "data": {
            "text/plain": [
              "  0%|          | 0/135107811 [00:00<?, ?it/s]"
            ],
            "application/vnd.jupyter.widget-view+json": {
              "version_major": 2,
              "version_minor": 0,
              "model_id": "e45cf3f74b3244b2a40b69d2ab932605"
            }
          },
          "metadata": {}
        }
      ]
    },
    {
      "cell_type": "code",
      "source": [
        "# Extract the file\n",
        "with tarfile.open(\"/content/cifar10.tgz\",\"r:gz\") as tar:\n",
        "  tar.extractall(path = \".\")"
      ],
      "metadata": {
        "id": "v0H3aE1j5475"
      },
      "execution_count": 3,
      "outputs": []
    },
    {
      "cell_type": "code",
      "source": [
        "data_dir = \"/content/cifar10\"\n",
        "\n",
        "# get the folders\n",
        "print(os.listdir(data_dir))\n",
        "# get the folders inside the classes\n",
        "classes = os.listdir(data_dir + \"/train\") \n",
        "print(classes)"
      ],
      "metadata": {
        "colab": {
          "base_uri": "https://localhost:8080/"
        },
        "id": "cMqWNRWSAX6Y",
        "outputId": "664e0cd9-01a8-4e42-96c2-39b2a69bbc4c"
      },
      "execution_count": 4,
      "outputs": [
        {
          "output_type": "stream",
          "name": "stdout",
          "text": [
            "['test', 'train']\n",
            "['deer', 'truck', 'cat', 'frog', 'airplane', 'dog', 'automobile', 'ship', 'bird', 'horse']\n"
          ]
        }
      ]
    },
    {
      "cell_type": "code",
      "source": [
        "# Printing files from folder\n",
        "airplane_files = os.listdir(data_dir + \"/train/airplane\")\n",
        "print(\"No. of planes:\", len(airplane_files))\n",
        "print(airplane_files[:5]) "
      ],
      "metadata": {
        "colab": {
          "base_uri": "https://localhost:8080/"
        },
        "id": "4xfe8_wBBmp8",
        "outputId": "d2794069-7cca-4d0b-84d7-a64b67db3668"
      },
      "execution_count": 5,
      "outputs": [
        {
          "output_type": "stream",
          "name": "stdout",
          "text": [
            "No. of planes: 5000\n",
            "['0157.png', '4222.png', '0730.png', '3399.png', '0061.png']\n"
          ]
        }
      ]
    },
    {
      "cell_type": "code",
      "source": [
        "ship_test_files = os.listdir(data_dir + \"/test/ship\")\n",
        "print(\"No. of planes:\", len(ship_test_files))\n",
        "print(ship_test_files[:5]) "
      ],
      "metadata": {
        "colab": {
          "base_uri": "https://localhost:8080/"
        },
        "id": "BoaW_GPfDLqJ",
        "outputId": "153ae075-d4c9-466c-bc49-55a135849ab4"
      },
      "execution_count": 6,
      "outputs": [
        {
          "output_type": "stream",
          "name": "stdout",
          "text": [
            "No. of planes: 1000\n",
            "['0157.png', '0730.png', '0061.png', '0640.png', '0345.png']\n"
          ]
        }
      ]
    },
    {
      "cell_type": "code",
      "source": [
        "## ImageFolder class from torchvision to load the dataset as pytorch tensor\n",
        "from torchvision.datasets import ImageFolder\n",
        "from torchvision.transforms import ToTensor"
      ],
      "metadata": {
        "id": "Pj-zHrgzDzOX"
      },
      "execution_count": 7,
      "outputs": []
    },
    {
      "cell_type": "code",
      "source": [
        "dataset = ImageFolder(data_dir + \"/train\", transform=ToTensor())"
      ],
      "metadata": {
        "id": "VJsPLseoEYfM"
      },
      "execution_count": 8,
      "outputs": []
    },
    {
      "cell_type": "markdown",
      "source": [
        "##### Each element is a tuple, containing a image tensor and a label. Since the data consists of 32x32 px color images with 3 channels (RGB), each image tensor has the shape (3, 32, 32)"
      ],
      "metadata": {
        "id": "PDtbrEChH26w"
      }
    },
    {
      "cell_type": "code",
      "source": [
        "img, label = dataset[0]\n",
        "print(img.shape, label)\n",
        "img"
      ],
      "metadata": {
        "colab": {
          "base_uri": "https://localhost:8080/"
        },
        "id": "cJy_kAzUFsx1",
        "outputId": "75b3b279-6030-40d1-a288-c098c16e6bf7"
      },
      "execution_count": 9,
      "outputs": [
        {
          "output_type": "stream",
          "name": "stdout",
          "text": [
            "torch.Size([3, 32, 32]) 0\n"
          ]
        },
        {
          "output_type": "execute_result",
          "data": {
            "text/plain": [
              "tensor([[[0.7922, 0.7922, 0.8000,  ..., 0.8118, 0.8039, 0.7961],\n",
              "         [0.8078, 0.8078, 0.8118,  ..., 0.8235, 0.8157, 0.8078],\n",
              "         [0.8235, 0.8275, 0.8314,  ..., 0.8392, 0.8314, 0.8235],\n",
              "         ...,\n",
              "         [0.8549, 0.8235, 0.7608,  ..., 0.9529, 0.9569, 0.9529],\n",
              "         [0.8588, 0.8510, 0.8471,  ..., 0.9451, 0.9451, 0.9451],\n",
              "         [0.8510, 0.8471, 0.8510,  ..., 0.9373, 0.9373, 0.9412]],\n",
              "\n",
              "        [[0.8000, 0.8000, 0.8078,  ..., 0.8157, 0.8078, 0.8000],\n",
              "         [0.8157, 0.8157, 0.8196,  ..., 0.8275, 0.8196, 0.8118],\n",
              "         [0.8314, 0.8353, 0.8392,  ..., 0.8392, 0.8353, 0.8275],\n",
              "         ...,\n",
              "         [0.8510, 0.8196, 0.7608,  ..., 0.9490, 0.9490, 0.9529],\n",
              "         [0.8549, 0.8471, 0.8471,  ..., 0.9412, 0.9412, 0.9412],\n",
              "         [0.8471, 0.8431, 0.8471,  ..., 0.9333, 0.9333, 0.9333]],\n",
              "\n",
              "        [[0.7804, 0.7804, 0.7882,  ..., 0.7843, 0.7804, 0.7765],\n",
              "         [0.7961, 0.7961, 0.8000,  ..., 0.8039, 0.7961, 0.7882],\n",
              "         [0.8118, 0.8157, 0.8235,  ..., 0.8235, 0.8157, 0.8078],\n",
              "         ...,\n",
              "         [0.8706, 0.8392, 0.7765,  ..., 0.9686, 0.9686, 0.9686],\n",
              "         [0.8745, 0.8667, 0.8627,  ..., 0.9608, 0.9608, 0.9608],\n",
              "         [0.8667, 0.8627, 0.8667,  ..., 0.9529, 0.9529, 0.9529]]])"
            ]
          },
          "metadata": {},
          "execution_count": 9
        }
      ]
    },
    {
      "cell_type": "code",
      "source": [
        "# Printing Classes\n",
        "print(dataset.classes)"
      ],
      "metadata": {
        "colab": {
          "base_uri": "https://localhost:8080/"
        },
        "id": "HAgzY3zoHl2n",
        "outputId": "ebab84bd-5c92-42fa-cc81-8ec59143a025"
      },
      "execution_count": 10,
      "outputs": [
        {
          "output_type": "stream",
          "name": "stdout",
          "text": [
            "['airplane', 'automobile', 'bird', 'cat', 'deer', 'dog', 'frog', 'horse', 'ship', 'truck']\n"
          ]
        }
      ]
    },
    {
      "cell_type": "code",
      "source": [
        "import matplotlib.pyplot as plt\n",
        "%matplotlib inline\n",
        "\n",
        "def show_example(img, label):\n",
        "  print('Label:', dataset.classes[label], \"(\"+str(label)+\")\")\n",
        "  plt.imshow(img.permute(1, 2, 0)) # Move 1--->0,2--->1,0--->2"
      ],
      "metadata": {
        "id": "IWbFIDKVIB8q"
      },
      "execution_count": 11,
      "outputs": []
    },
    {
      "cell_type": "code",
      "source": [
        "show_example(*dataset[0])"
      ],
      "metadata": {
        "colab": {
          "base_uri": "https://localhost:8080/",
          "height": 283
        },
        "id": "ys2q_CaXKemQ",
        "outputId": "b2fd63a2-94df-4593-dab9-9da7c70afb1a"
      },
      "execution_count": null,
      "outputs": [
        {
          "output_type": "stream",
          "name": "stdout",
          "text": [
            "Label: airplane (0)\n"
          ]
        },
        {
          "output_type": "display_data",
          "data": {
            "text/plain": [
              "<Figure size 432x288 with 1 Axes>"
            ],
            "image/png": "[encoded data removed]"
          },
          "metadata": {
            "needs_background": "light"
          }
        }
      ]
    },
    {
      "cell_type": "code",
      "source": [
        "import numpy as np\n",
        "\n",
        "# Pick 20%  random for validation set\n",
        "def split_indices(n, val_pct=0.1, seed=99):\n",
        "  # Determine the size of validation set'\n",
        "  n_val = int(val_pct*n)\n",
        "  # for reproducibility\n",
        "  np.random.seed(seed)\n",
        "  # Create random permutation of 0 - n-1\n",
        "  idxs = np.random.permutation(n)\n",
        "  # Pick 1st n_val indices for validation_set\n",
        "  return idxs[n_val:], idxs[:n_val]"
      ],
      "metadata": {
        "id": "TPg52KGeLpDH"
      },
      "execution_count": 12,
      "outputs": []
    },
    {
      "cell_type": "code",
      "source": [
        "val_pct = 0.2\n",
        "rand_seed = 42\n",
        "\n",
        "train_indices, val_indices = split_indices(len(dataset), val_pct, rand_seed)\n",
        "print(len(train_indices)) , print(len(val_indices))\n",
        "\n",
        "print(\"sample validation_indices\", val_indices[:10])"
      ],
      "metadata": {
        "colab": {
          "base_uri": "https://localhost:8080/"
        },
        "id": "N0RWQR0NM-U5",
        "outputId": "e346c14a-3a5c-42d3-8307-ca4afcd7f59d"
      },
      "execution_count": 13,
      "outputs": [
        {
          "output_type": "stream",
          "name": "stdout",
          "text": [
            "40000\n",
            "10000\n",
            "sample validation_indices [33553  9427   199 12447 39489 42724 10822 49498  4144 36958]\n"
          ]
        }
      ]
    },
    {
      "cell_type": "code",
      "source": [
        "from torch.utils.data.sampler import SubsetRandomSampler\n",
        "from torch.utils.data.dataloader import DataLoader"
      ],
      "metadata": {
        "id": "BHTRZuevOLSy"
      },
      "execution_count": 14,
      "outputs": []
    },
    {
      "cell_type": "code",
      "source": [
        "## Divides the data into the given batch size  \n",
        "\n",
        "batch_size = 100\n",
        "\n",
        "# Training Sampler and data loader\n",
        "train_sampler = SubsetRandomSampler(train_indices) # Helps to randomize the batches, shffle the  data\n",
        "train_dl = DataLoader(dataset, batch_size, sampler=train_sampler)\n",
        "\n",
        "# Validation Sampler and data loader\n",
        "valid_sampler = SubsetRandomSampler(val_indices)\n",
        "valid_dl = DataLoader(dataset, batch_size, sampler=valid_sampler)"
      ],
      "metadata": {
        "id": "n3N1FbMIOTCM"
      },
      "execution_count": 15,
      "outputs": []
    },
    {
      "cell_type": "code",
      "source": [
        "from torchvision.utils import make_grid\n",
        "\n",
        "def show_batch(dl):\n",
        "  for images, labels in dl:\n",
        "    fig, ax = plt.subplots(figsize =(10,10))\n",
        "    ax.set_xticks([])\n",
        "    ax.set_yticks([])\n",
        "    ax.imshow(make_grid(images,10).permute(1,2,0))\n"
      ],
      "metadata": {
        "id": "L2B6ydsXOlOp"
      },
      "execution_count": 16,
      "outputs": []
    },
    {
      "cell_type": "code",
      "source": [
        "import torch.nn.functional as F\n",
        "import torch.nn as nn"
      ],
      "metadata": {
        "id": "d1jbMA5qRulO"
      },
      "execution_count": 17,
      "outputs": []
    },
    {
      "cell_type": "code",
      "source": [
        "# Simple convolutional model\n",
        "simple_model = nn.Sequential(\n",
        "    nn.Conv2d(3, 8, kernel_size=3, stride=1, padding=1),\n",
        "    nn.MaxPool2d(2,2)\n",
        ")"
      ],
      "metadata": {
        "id": "e5cbdt7gm97l"
      },
      "execution_count": 18,
      "outputs": []
    },
    {
      "cell_type": "code",
      "source": [
        "for images, labels in train_dl:\n",
        "    print('images.shape:', images.shape)\n",
        "    out = simple_model(images)\n",
        "    print('out.shape:', out.shape)\n",
        "    break"
      ],
      "metadata": {
        "colab": {
          "base_uri": "https://localhost:8080/"
        },
        "id": "zQI8dTIVoMvd",
        "outputId": "c2a94f5f-ff38-4046-e324-c5dac4bcec98"
      },
      "execution_count": 19,
      "outputs": [
        {
          "output_type": "stream",
          "name": "stdout",
          "text": [
            "images.shape: torch.Size([100, 3, 32, 32])\n",
            "out.shape: torch.Size([100, 8, 16, 16])\n"
          ]
        }
      ]
    },
    {
      "cell_type": "code",
      "source": [
        "model = nn.Sequential(\n",
        "    nn.Conv2d(3 ,16, kernel_size=3, stride=1, padding=1),\n",
        "    nn.ReLU(),\n",
        "    nn.MaxPool2d(2,2), #output:bs*16*16*16\n",
        "\n",
        "    nn.Conv2d(16 ,16, kernel_size=3, stride=1, padding=1),\n",
        "    nn.ReLU(),\n",
        "    nn.MaxPool2d(2,2), #output:bs*16*8*8\n",
        "\n",
        "    nn.Conv2d(16 ,16, kernel_size=3, stride=1, padding=1),\n",
        "    nn.ReLU(),\n",
        "    nn.MaxPool2d(2,2), #output:bs*16*4*4\n",
        "\n",
        "    nn.Conv2d(16 ,16, kernel_size=3, stride=1, padding=1),\n",
        "    nn.ReLU(),\n",
        "    nn.MaxPool2d(2,2), #output:bs*16*2*2\n",
        "\n",
        "    nn.Conv2d(16 ,16, kernel_size=3, stride=1, padding=1),\n",
        "    nn.ReLU(),\n",
        "    nn.MaxPool2d(2,2), #output:bs*16*1*1\n",
        "\n",
        "    nn.Flatten(), #output:bs*16\n",
        "    nn.Linear(16,10) #output: bs*10\n",
        "\n",
        "\n",
        ")"
      ],
      "metadata": {
        "id": "Vjs3YTqkpYTJ"
      },
      "execution_count": 20,
      "outputs": []
    },
    {
      "cell_type": "code",
      "source": [
        "model[3].weight.shape"
      ],
      "metadata": {
        "colab": {
          "base_uri": "https://localhost:8080/"
        },
        "id": "Ar5TmX7osLhL",
        "outputId": "e21e234f-2825-4022-da43-d1df3829d238"
      },
      "execution_count": 21,
      "outputs": [
        {
          "output_type": "execute_result",
          "data": {
            "text/plain": [
              "torch.Size([16, 16, 3, 3])"
            ]
          },
          "metadata": {},
          "execution_count": 21
        }
      ]
    },
    {
      "cell_type": "code",
      "source": [
        "# Check the models output\n",
        "for images, labels in train_dl:\n",
        "    print('images.shape:', images.shape)\n",
        "    out = model(images)\n",
        "    print('out.shape:', out.shape)\n",
        "    print('out[0]:', out[0])\n",
        "    break"
      ],
      "metadata": {
        "colab": {
          "base_uri": "https://localhost:8080/"
        },
        "id": "VjvkyrLOsR22",
        "outputId": "c525afaf-174e-48db-9b3a-c1b8921a9db1"
      },
      "execution_count": 22,
      "outputs": [
        {
          "output_type": "stream",
          "name": "stdout",
          "text": [
            "images.shape: torch.Size([100, 3, 32, 32])\n",
            "out.shape: torch.Size([100, 10])\n",
            "out[0]: tensor([ 0.1330, -0.0480,  0.1382,  0.0392,  0.1099, -0.0751,  0.0808,  0.0739,\n",
            "        -0.1633, -0.2239], grad_fn=<SelectBackward0>)\n"
          ]
        }
      ]
    },
    {
      "cell_type": "code",
      "source": [
        "# Helper function if our code uses GPU else CPU\n",
        "def get_default_device():\n",
        "  if torch.cuda.is_available():\n",
        "     return torch.device(\"cuda\")\n",
        "  else:\n",
        "     return torch.device(\"cpu\")\n",
        "\n",
        "## Move the data and model to chosen device\n",
        "def to_device(data, device):\n",
        "  \"\"\"Move tensor to chosen device\"\"\"\n",
        "  if isinstance(data, (list, tuple)): #Checks whether it is list or tuple \n",
        "    return [to_device(x, device) for x in data] # move to device\n",
        "  return data.to(device, non_blocking=True)\n",
        "\n",
        "# DeviceDataLoader class to wrap our existing data loaders and move batches of data to the selected device.\n",
        "class DeviceDataLoader():\n",
        "  \"\"\"Wrap a dataloader to move data to a device\"\"\"\n",
        "  def __init__(self,dl,device):\n",
        "    self.dl =dl\n",
        "    self.device = device\n",
        "    \n",
        "  def __iter__(self):\n",
        "    \"\"\"Yield a batch of data after moving it to device\"\"\"\n",
        "    for b in self.dl:\n",
        "      yield to_device(b, self.device)\n",
        "\n",
        "  def __len__(self):\n",
        "    \"\"\"Number of batches\"\"\"\n",
        "    return (self.dl)"
      ],
      "metadata": {
        "id": "xzH5Bleyt2aQ"
      },
      "execution_count": 23,
      "outputs": []
    },
    {
      "cell_type": "code",
      "source": [
        "device = get_default_device()\n",
        "device"
      ],
      "metadata": {
        "colab": {
          "base_uri": "https://localhost:8080/"
        },
        "id": "eh81sNt4upC0",
        "outputId": "c2abdd6e-6103-402a-d190-7ab7a5fdeab5"
      },
      "execution_count": 24,
      "outputs": [
        {
          "output_type": "execute_result",
          "data": {
            "text/plain": [
              "device(type='cuda')"
            ]
          },
          "metadata": {},
          "execution_count": 24
        }
      ]
    },
    {
      "cell_type": "markdown",
      "source": [
        "##### Training and validation data loaders using DeviceDataLoader for automatically transferring batches of data to the GPU (if available), and use to_device to move our model to the GPU (if available)."
      ],
      "metadata": {
        "id": "eQrf_pwdvKaO"
      }
    },
    {
      "cell_type": "code",
      "source": [
        "## Load the data using device loader\n",
        "\n",
        "train_dl = DeviceDataLoader(train_dl, device)\n",
        "valid_dl = DeviceDataLoader(valid_dl, device)\n",
        "\n",
        "to_device(model, device)"
      ],
      "metadata": {
        "colab": {
          "base_uri": "https://localhost:8080/"
        },
        "id": "E_Xzu_Weuw3Y",
        "outputId": "90b54563-b67a-4729-85d8-9aa8feacd565"
      },
      "execution_count": 25,
      "outputs": [
        {
          "output_type": "execute_result",
          "data": {
            "text/plain": [
              "Sequential(\n",
              "  (0): Conv2d(3, 16, kernel_size=(3, 3), stride=(1, 1), padding=(1, 1))\n",
              "  (1): ReLU()\n",
              "  (2): MaxPool2d(kernel_size=2, stride=2, padding=0, dilation=1, ceil_mode=False)\n",
              "  (3): Conv2d(16, 16, kernel_size=(3, 3), stride=(1, 1), padding=(1, 1))\n",
              "  (4): ReLU()\n",
              "  (5): MaxPool2d(kernel_size=2, stride=2, padding=0, dilation=1, ceil_mode=False)\n",
              "  (6): Conv2d(16, 16, kernel_size=(3, 3), stride=(1, 1), padding=(1, 1))\n",
              "  (7): ReLU()\n",
              "  (8): MaxPool2d(kernel_size=2, stride=2, padding=0, dilation=1, ceil_mode=False)\n",
              "  (9): Conv2d(16, 16, kernel_size=(3, 3), stride=(1, 1), padding=(1, 1))\n",
              "  (10): ReLU()\n",
              "  (11): MaxPool2d(kernel_size=2, stride=2, padding=0, dilation=1, ceil_mode=False)\n",
              "  (12): Conv2d(16, 16, kernel_size=(3, 3), stride=(1, 1), padding=(1, 1))\n",
              "  (13): ReLU()\n",
              "  (14): MaxPool2d(kernel_size=2, stride=2, padding=0, dilation=1, ceil_mode=False)\n",
              "  (15): Flatten(start_dim=1, end_dim=-1)\n",
              "  (16): Linear(in_features=16, out_features=10, bias=True)\n",
              ")"
            ]
          },
          "metadata": {},
          "execution_count": 25
        }
      ]
    },
    {
      "cell_type": "markdown",
      "source": [
        "#### Training The Model"
      ],
      "metadata": {
        "id": "Y-iNKJiVw-JH"
      }
    },
    {
      "cell_type": "code",
      "source": [
        "def loss_batch(model, loss_func, xb, yb, opt= None, metric=None):\n",
        "  # Generate Predictions\n",
        "  preds = model(xb)\n",
        "  # Calculate loss\n",
        "  loss = loss_func(preds, yb)\n",
        "  if opt is not None:\n",
        "    # Compute the gradient\n",
        "    loss.backward()\n",
        "    # Update Parameters\n",
        "    opt.step()\n",
        "    # Reset gradient\n",
        "    opt.zero_grad()\n",
        "\n",
        "  metric_result = None\n",
        "  if metric is not None:\n",
        "    # Compute the metric\n",
        "    metric_result = metric(preds, yb)\n",
        "\n",
        "  return loss.item(), len(xb), metric_result"
      ],
      "metadata": {
        "id": "GzGw_FOPvvdQ"
      },
      "execution_count": 26,
      "outputs": []
    },
    {
      "cell_type": "code",
      "source": [
        "#Evaluate function\n",
        "def evaluate(model, loss_fn, valid_dl, metric=None):\n",
        "   with torch.no_grad():\n",
        "      #pass each batch through the model\n",
        "      results = [loss_batch(model, loss_fn, xb, yb, metric=metric) for xb, yb in valid_dl]\n",
        "\n",
        "      # Seperate losses, count, metrics\n",
        "      losses, nums, metrics = zip(*results)\n",
        "      # Toatl size of the dataset\n",
        "      total = np.sum(nums)\n",
        "      # Average loss across batches\n",
        "      avg_loss = np.sum(np.multiply(losses, nums)) / total\n",
        "      avg_metric = None\n",
        "\n",
        "      if metric is not None:\n",
        "          # Average of metric across batches\n",
        "          avg_metric = np.sum(np.multiply(metrics, nums)) / total \n",
        "\n",
        "   return avg_loss, total, avg_metric"
      ],
      "metadata": {
        "id": "RWGXu9Xrv2ry"
      },
      "execution_count": 27,
      "outputs": []
    },
    {
      "cell_type": "code",
      "source": [
        "# Fitting the model\n",
        "def fit(epochs, model, loss_fn, train_dl, valid_dl, opt_fn=None, lr = None, metric=None, ):\n",
        "\n",
        "  train_losses, val_losses, val_metrics =[], [], []\n",
        "  # Instantiate the optimizer\n",
        "  if opt_fn is None: opt_fn = torch.optim.SGD\n",
        "  opt = opt_fn(model.parameters(), lr=lr)\n",
        "\n",
        "  for epoch in range(epochs):\n",
        "    #Training mode\n",
        "    model.train()\n",
        "\n",
        "    for xb, yb in train_dl:\n",
        "      train_loss,_,_ = loss_batch(model, loss_fn, xb ,yb, opt)\n",
        "\n",
        "    # Evaluation mode\n",
        "    result = evaluate(model, loss_fn, valid_dl, metric)\n",
        "    val_loss, total, val_metric = result\n",
        "\n",
        "    # Record the losses and metric\n",
        "    train_losses.append(train_loss)\n",
        "    val_losses.append(val_loss)\n",
        "    val_metrics.append(val_metric)\n",
        "\n",
        "    #print progress\n",
        "    if metric is None:\n",
        "        print('Epoch[{}/{}], train_loss:{:.4f}, val_loss:{:.4f}'.format(epoch+1, epochs,train_loss, val_loss))\n",
        "    else:\n",
        "        print('Epoch[{}/{}], train_loss:{:.4f},val_loss:{:.4f}, val_{}:{:.4f}'.format(epoch+1, epochs, train_loss, val_loss, metric.__name__,val_metric)) \n",
        "\n",
        "  return train_losses, val_losses, val_metrics"
      ],
      "metadata": {
        "id": "AWx9ji27v66O"
      },
      "execution_count": 28,
      "outputs": []
    },
    {
      "cell_type": "code",
      "source": [
        "# Compares the ouput and label gives how accurate our model\n",
        "def accuracy(outputs, labels):\n",
        "  _, preds = torch.max(outputs, dim=1)\n",
        "  return torch.sum(preds == labels).item() / len(preds)"
      ],
      "metadata": {
        "id": "wRYKUz4z0w9x"
      },
      "execution_count": 29,
      "outputs": []
    },
    {
      "cell_type": "markdown",
      "source": [
        "#### Train the model and see the performance on the validationset with initial set of parameters"
      ],
      "metadata": {
        "id": "pd9i4chj1SIX"
      }
    },
    {
      "cell_type": "code",
      "source": [
        "val_loss, _, val_acc = evaluate(model, F.cross_entropy, valid_dl, metric=accuracy)\n",
        "print('Loss: {:.4f}, Accuracy: {:.4f}'.format(val_loss, val_acc))"
      ],
      "metadata": {
        "colab": {
          "base_uri": "https://localhost:8080/"
        },
        "id": "JHWb0lBI1L1P",
        "outputId": "7b096cf5-18d2-4382-805f-d74950155511"
      },
      "execution_count": 30,
      "outputs": [
        {
          "output_type": "stream",
          "name": "stdout",
          "text": [
            "Loss: 2.3094, Accuracy: 0.0980\n"
          ]
        }
      ]
    },
    {
      "cell_type": "markdown",
      "source": [
        "##### Hyperparameters to train the model"
      ],
      "metadata": {
        "id": "0LtDVPYg2rLe"
      }
    },
    {
      "cell_type": "code",
      "source": [
        "num_epochs = 10\n",
        "opt_fn = torch.optim.Adam\n",
        "lr = 0.005"
      ],
      "metadata": {
        "id": "2pOT6Kmf2Gin"
      },
      "execution_count": 31,
      "outputs": []
    },
    {
      "cell_type": "code",
      "source": [
        "history = fit(num_epochs, model, F.cross_entropy, train_dl, valid_dl, opt_fn, lr, accuracy)\n",
        "train_losses, val_losses, val_metrics = history"
      ],
      "metadata": {
        "colab": {
          "base_uri": "https://localhost:8080/"
        },
        "id": "uCWutNS-3J2_",
        "outputId": "7ca547dc-05ba-4ee8-e01b-974c8e74851b"
      },
      "execution_count": 32,
      "outputs": [
        {
          "output_type": "stream",
          "name": "stdout",
          "text": [
            "Epoch[1/10], train_loss:1.4926,val_loss:1.6384, val_accuracy:0.3915\n",
            "Epoch[2/10], train_loss:1.6138,val_loss:1.5496, val_accuracy:0.4287\n",
            "Epoch[3/10], train_loss:1.4122,val_loss:1.4676, val_accuracy:0.4635\n",
            "Epoch[4/10], train_loss:1.2254,val_loss:1.4181, val_accuracy:0.4826\n",
            "Epoch[5/10], train_loss:1.1086,val_loss:1.3832, val_accuracy:0.5012\n",
            "Epoch[6/10], train_loss:1.2513,val_loss:1.3598, val_accuracy:0.5096\n",
            "Epoch[7/10], train_loss:1.2172,val_loss:1.3890, val_accuracy:0.5043\n",
            "Epoch[8/10], train_loss:1.3521,val_loss:1.3006, val_accuracy:0.5367\n",
            "Epoch[9/10], train_loss:1.2997,val_loss:1.3037, val_accuracy:0.5337\n",
            "Epoch[10/10], train_loss:1.1241,val_loss:1.3180, val_accuracy:0.5304\n"
          ]
        }
      ]
    },
    {
      "cell_type": "code",
      "source": [
        "# plot metric values in line graph\n",
        "def plot_metric(metric_values):\n",
        "  plt.plot(metric_values,'-x')\n",
        "  plt.xlabel(\"epochs\")\n",
        "  plt.ylabel(\"accuracy\")\n",
        "  plt.title(\"Accuarcy Vs No. of Epochs\");"
      ],
      "metadata": {
        "id": "rXiYR7Af6QhO"
      },
      "execution_count": 35,
      "outputs": []
    },
    {
      "cell_type": "code",
      "source": [
        "# padding initial validation accuracy with what we got after training\n",
        "plot_metric([val_acc] + val_metrics)"
      ],
      "metadata": {
        "colab": {
          "base_uri": "https://localhost:8080/",
          "height": 295
        },
        "id": "ZLR_HXF_6_qX",
        "outputId": "101c1f1f-8f18-4390-a377-d654031b61e5"
      },
      "execution_count": 36,
      "outputs": [
        {
          "output_type": "display_data",
          "data": {
            "text/plain": [
              "<Figure size 432x288 with 1 Axes>"
            ],
            "image/png": "[encoded data removed]"
          },
          "metadata": {
            "needs_background": "light"
          }
        }
      ]
    },
    {
      "cell_type": "code",
      "source": [
        "# Plotting training and validation loss to study the trend\n",
        "def plot_losses(train_losses, val_losses):\n",
        "  plt.plot(train_losses,'-x')\n",
        "  plt.plot(val_losses,'-o')\n",
        "  plt.xlabel('epoch')\n",
        "  plt.ylabel('loss')\n",
        "  plt.legend(['Training','Validation'])\n",
        "  plt.title('Loss vs No.of epochs')"
      ],
      "metadata": {
        "id": "Kr-xbr8r-lUD"
      },
      "execution_count": 37,
      "outputs": []
    },
    {
      "cell_type": "code",
      "source": [
        "plot_losses([None]+train_losses, [val_loss]+val_losses)"
      ],
      "metadata": {
        "colab": {
          "base_uri": "https://localhost:8080/",
          "height": 295
        },
        "id": "kjuYQFqF_ow9",
        "outputId": "4589c8ac-af7f-41f5-89a3-227b2d0fb6d1"
      },
      "execution_count": 38,
      "outputs": [
        {
          "output_type": "display_data",
          "data": {
            "text/plain": [
              "<Figure size 432x288 with 1 Axes>"
            ],
            "image/png": "[encoded data removed]"
          },
          "metadata": {
            "needs_background": "light"
          }
        }
      ]
    }
  ]
}