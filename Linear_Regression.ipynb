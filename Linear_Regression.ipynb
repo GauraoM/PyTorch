{
  "nbformat": 4,
  "nbformat_minor": 0,
  "metadata": {
    "colab": {
      "name": "Linear Regression.ipynb",
      "provenance": [],
      "authorship_tag": "ABX9TyP1V50OPYhrB6Ai6a3NqL6a",
      "include_colab_link": true
    },
    "kernelspec": {
      "name": "python3",
      "display_name": "Python 3"
    },
    "language_info": {
      "name": "python"
    }
  },
  "cells": [
    {
      "cell_type": "markdown",
      "metadata": {
        "id": "view-in-github",
        "colab_type": "text"
      },
      "source": [
        "<a href=\"https://colab.research.google.com/github/GauraoM/PyTorch/blob/main/Linear_Regression.ipynb\" target=\"_parent\"><img src=\"https://colab.research.google.com/assets/colab-badge.svg\" alt=\"Open In Colab\"/></a>"
      ]
    },
    {
      "cell_type": "code",
      "execution_count": 3,
      "metadata": {
        "id": "l0Eyw2Ej7vp2"
      },
      "outputs": [],
      "source": [
        "import numpy as np\n",
        "import torch"
      ]
    },
    {
      "cell_type": "markdown",
      "source": [
        "#### Training Data"
      ],
      "metadata": {
        "id": "wrCwOQ4f_Ut4"
      }
    },
    {
      "cell_type": "code",
      "source": [
        "# Input(Temperature, rainfall, humidity)\n",
        "inputs = np.array([[73,67,43],\n",
        "                   [91,88,64],\n",
        "                   [87,134,58],\n",
        "                   [102,43,37],\n",
        "                   [69,96,70]], dtype = 'float32')"
      ],
      "metadata": {
        "id": "d3bWvS6B9Jf0"
      },
      "execution_count": 4,
      "outputs": []
    },
    {
      "cell_type": "code",
      "source": [
        "# Targets(apples, oranges)\n",
        "targets = np.array([[56,70],\n",
        "                    [81,101],\n",
        "                    [119,133],\n",
        "                    [22,37],\n",
        "                    [103,119]], dtype='float32')"
      ],
      "metadata": {
        "id": "Vfpnvl4w_8qB"
      },
      "execution_count": 5,
      "outputs": []
    },
    {
      "cell_type": "code",
      "source": [
        "# Convert input and target to tensor\n",
        "inputs = torch.from_numpy(inputs)\n",
        "targets = torch.from_numpy(targets)\n",
        "\n",
        "print(inputs)\n",
        "print(targets)"
      ],
      "metadata": {
        "colab": {
          "base_uri": "https://localhost:8080/"
        },
        "id": "-0qeBYKdExIj",
        "outputId": "d6286785-105c-408c-ae7b-f85b4cbe5df3"
      },
      "execution_count": 6,
      "outputs": [
        {
          "output_type": "stream",
          "name": "stdout",
          "text": [
            "tensor([[ 73.,  67.,  43.],\n",
            "        [ 91.,  88.,  64.],\n",
            "        [ 87., 134.,  58.],\n",
            "        [102.,  43.,  37.],\n",
            "        [ 69.,  96.,  70.]])\n",
            "tensor([[ 56.,  70.],\n",
            "        [ 81., 101.],\n",
            "        [119., 133.],\n",
            "        [ 22.,  37.],\n",
            "        [103., 119.]])\n"
          ]
        }
      ]
    },
    {
      "cell_type": "code",
      "source": [
        "# weights and biases\n",
        "w = torch.randn(2,3, requires_grad = True)\n",
        "b = torch.randn(2, requires_grad = True)\n",
        "print(w)\n",
        "print(b)"
      ],
      "metadata": {
        "colab": {
          "base_uri": "https://localhost:8080/"
        },
        "id": "npkUzWdiG7OZ",
        "outputId": "0a95e84b-9285-4fa0-d584-220b9b847009"
      },
      "execution_count": 8,
      "outputs": [
        {
          "output_type": "stream",
          "name": "stdout",
          "text": [
            "tensor([[-1.8424,  2.0182,  1.6328],\n",
            "        [ 1.3150, -0.1094, -0.5694]], requires_grad=True)\n",
            "tensor([ 0.5747, -0.3161], requires_grad=True)\n"
          ]
        }
      ]
    },
    {
      "cell_type": "code",
      "source": [
        "def model(x):\n",
        "  return x@w.t()+b"
      ],
      "metadata": {
        "id": "l0qpZ8DvHgWs"
      },
      "execution_count": 9,
      "outputs": []
    },
    {
      "cell_type": "code",
      "source": [
        "# Generate Predictions\n",
        "preds = model(inputs)\n",
        "print(preds)"
      ],
      "metadata": {
        "colab": {
          "base_uri": "https://localhost:8080/"
        },
        "id": "u74RaGyoIoWH",
        "outputId": "674800a4-3b0c-41c7-9b58-9505d4398dd9"
      },
      "execution_count": 10,
      "outputs": [
        {
          "output_type": "stream",
          "name": "stdout",
          "text": [
            "tensor([[ 71.5056,  63.8703],\n",
            "        [115.0127,  73.2874],\n",
            "        [205.4212,  66.4124],\n",
            "        [-40.1582, 108.0471],\n",
            "        [181.4887,  40.0658]], grad_fn=<AddBackward0>)\n"
          ]
        }
      ]
    },
    {
      "cell_type": "code",
      "source": [
        "print(targets)"
      ],
      "metadata": {
        "colab": {
          "base_uri": "https://localhost:8080/"
        },
        "id": "2mbYDR4sI77d",
        "outputId": "7992ac78-d152-40ab-cc5b-46f66199b0b4"
      },
      "execution_count": 11,
      "outputs": [
        {
          "output_type": "stream",
          "name": "stdout",
          "text": [
            "tensor([[ 56.,  70.],\n",
            "        [ 81., 101.],\n",
            "        [119., 133.],\n",
            "        [ 22.,  37.],\n",
            "        [103., 119.]])\n"
          ]
        }
      ]
    },
    {
      "cell_type": "code",
      "source": [
        "# MSE Loss\n",
        "def mse(t1,t2):\n",
        "  diff = t1- t2\n",
        "  return torch.sum(diff*diff)/ diff.numel()  "
      ],
      "metadata": {
        "id": "aaZeV6L4Kl-g"
      },
      "execution_count": 12,
      "outputs": []
    },
    {
      "cell_type": "code",
      "source": [
        "# Compute the loss\n",
        "loss = mse(preds, targets)\n",
        "loss"
      ],
      "metadata": {
        "colab": {
          "base_uri": "https://localhost:8080/"
        },
        "id": "Mv_B4RyvK-5N",
        "outputId": "bedb6413-f139-43ee-d54a-49e1e2d5a76b"
      },
      "execution_count": 13,
      "outputs": [
        {
          "output_type": "execute_result",
          "data": {
            "text/plain": [
              "tensor(3540.7793, grad_fn=<DivBackward0>)"
            ]
          },
          "metadata": {},
          "execution_count": 13
        }
      ]
    },
    {
      "cell_type": "code",
      "source": [
        "# Compute gradients\n",
        "loss.backward()"
      ],
      "metadata": {
        "id": "fOrluVg2NGho"
      },
      "execution_count": 14,
      "outputs": []
    },
    {
      "cell_type": "code",
      "source": [
        "# Gradients for weights\n",
        "print(w)\n",
        "print(w.grad)"
      ],
      "metadata": {
        "colab": {
          "base_uri": "https://localhost:8080/"
        },
        "id": "ekTU_Bd9NH7K",
        "outputId": "f9935180-5508-4678-dd3c-8c0d06a89a9a"
      },
      "execution_count": 15,
      "outputs": [
        {
          "output_type": "stream",
          "name": "stdout",
          "text": [
            "tensor([[-1.8424,  2.0182,  1.6328],\n",
            "        [ 1.3150, -0.1094, -0.5694]], requires_grad=True)\n",
            "tensor([[ 2164.2593,  4094.9094,  2210.0681],\n",
            "        [-1392.4189, -3258.9597, -1759.1835]])\n"
          ]
        }
      ]
    },
    {
      "cell_type": "code",
      "source": [
        "print(b)\n",
        "print(b.grad)"
      ],
      "metadata": {
        "colab": {
          "base_uri": "https://localhost:8080/"
        },
        "id": "n0ZYL1OnNMPG",
        "outputId": "c4448983-38f3-433b-cfdf-9d0d9c11f253"
      },
      "execution_count": 17,
      "outputs": [
        {
          "output_type": "stream",
          "name": "stdout",
          "text": [
            "tensor([ 0.5747, -0.3161], requires_grad=True)\n",
            "tensor([ 30.4540, -21.6634])\n"
          ]
        }
      ]
    },
    {
      "cell_type": "code",
      "source": [
        "# Reset values to zero\n",
        "w.grad.zero_()\n",
        "b.grad.zero_()"
      ],
      "metadata": {
        "colab": {
          "base_uri": "https://localhost:8080/"
        },
        "id": "Bw6g_d7fNl-y",
        "outputId": "1422dd69-67cb-4c35-e081-dd643616c6d1"
      },
      "execution_count": 19,
      "outputs": [
        {
          "output_type": "execute_result",
          "data": {
            "text/plain": [
              "tensor([0., 0.])"
            ]
          },
          "metadata": {},
          "execution_count": 19
        }
      ]
    },
    {
      "cell_type": "markdown",
      "source": [
        "#### Train the model using Gradient descent"
      ],
      "metadata": {
        "id": "mur5QNhWO_Rf"
      }
    },
    {
      "cell_type": "code",
      "source": [
        "# Generate Predictions\n",
        "preds = model(inputs)\n",
        "preds"
      ],
      "metadata": {
        "colab": {
          "base_uri": "https://localhost:8080/"
        },
        "id": "MWriOIi_OSpn",
        "outputId": "587c2f53-f4fb-4aec-acde-e770fe94fd2e"
      },
      "execution_count": 20,
      "outputs": [
        {
          "output_type": "execute_result",
          "data": {
            "text/plain": [
              "tensor([[ 71.5056,  63.8703],\n",
              "        [115.0127,  73.2874],\n",
              "        [205.4212,  66.4124],\n",
              "        [-40.1582, 108.0471],\n",
              "        [181.4887,  40.0658]], grad_fn=<AddBackward0>)"
            ]
          },
          "metadata": {},
          "execution_count": 20
        }
      ]
    },
    {
      "cell_type": "code",
      "source": [
        "# Compute the loss\n",
        "loss = mse(preds, targets)\n",
        "loss"
      ],
      "metadata": {
        "colab": {
          "base_uri": "https://localhost:8080/"
        },
        "id": "lMGpWB0kOzvB",
        "outputId": "e8366ac5-0f90-4867-b5d3-e7e07b51a81b"
      },
      "execution_count": 21,
      "outputs": [
        {
          "output_type": "execute_result",
          "data": {
            "text/plain": [
              "tensor(3540.7793, grad_fn=<DivBackward0>)"
            ]
          },
          "metadata": {},
          "execution_count": 21
        }
      ]
    },
    {
      "cell_type": "code",
      "source": [
        "# Compute gradients\n",
        "loss.backward()\n",
        "print(w.grad)\n",
        "print(b.grad)"
      ],
      "metadata": {
        "colab": {
          "base_uri": "https://localhost:8080/"
        },
        "id": "st5izssQPImt",
        "outputId": "7ab3619f-17c5-42df-d7b8-1170b5253c73"
      },
      "execution_count": 22,
      "outputs": [
        {
          "output_type": "stream",
          "name": "stdout",
          "text": [
            "tensor([[ 2164.2593,  4094.9094,  2210.0681],\n",
            "        [-1392.4189, -3258.9597, -1759.1835]])\n",
            "tensor([ 30.4540, -21.6634])\n"
          ]
        }
      ]
    },
    {
      "cell_type": "code",
      "source": [
        "# Adjust the weights and reset gradient\n",
        "# Disable grad with torch.no_grad\n",
        "with torch.no_grad():\n",
        "  w -= w.grad * 1e-5\n",
        "  b -= b.grad * 1e-5\n",
        "  w.grad.zero_()\n",
        "  b.grad.zero_()"
      ],
      "metadata": {
        "id": "MoglpYRxPKS6"
      },
      "execution_count": 23,
      "outputs": []
    },
    {
      "cell_type": "code",
      "source": [
        "print(w)\n",
        "print(b)"
      ],
      "metadata": {
        "colab": {
          "base_uri": "https://localhost:8080/"
        },
        "id": "DwHScdvzQmWP",
        "outputId": "1012c68b-0060-4fab-b7ca-f4316bcbfa2d"
      },
      "execution_count": 24,
      "outputs": [
        {
          "output_type": "stream",
          "name": "stdout",
          "text": [
            "tensor([[-1.8641,  1.9772,  1.6107],\n",
            "        [ 1.3289, -0.0768, -0.5518]], requires_grad=True)\n",
            "tensor([ 0.5744, -0.3159], requires_grad=True)\n"
          ]
        }
      ]
    },
    {
      "cell_type": "code",
      "source": [
        "# Now we have new weights and biases we can calculate the loss\n",
        "# Calculate loss\n",
        "preds = model(inputs)\n",
        "loss = mse(preds, targets)\n",
        "print(loss)"
      ],
      "metadata": {
        "colab": {
          "base_uri": "https://localhost:8080/"
        },
        "id": "5xcOfc8qRc4A",
        "outputId": "ced32405-b2f6-44a3-fcdd-24c470c96c4d"
      },
      "execution_count": 25,
      "outputs": [
        {
          "output_type": "stream",
          "name": "stdout",
          "text": [
            "tensor(3155.8823, grad_fn=<DivBackward0>)\n"
          ]
        }
      ]
    },
    {
      "cell_type": "markdown",
      "source": [
        "#### Training for multiple inputs"
      ],
      "metadata": {
        "id": "q1ysHksiR1kC"
      }
    },
    {
      "cell_type": "code",
      "source": [
        "# Train for 100 epochs\n",
        "for i in range(100):\n",
        "    preds = model(inputs)\n",
        "    loss = mse(preds, targets)\n",
        "    loss.backward()\n",
        "    with torch.no_grad():\n",
        "        w -= w.grad * 1e-5\n",
        "        b -= b.grad * 1e-5\n",
        "        w.grad.zero_()\n",
        "        b.grad.zero_()"
      ],
      "metadata": {
        "id": "GR53YjW_RzZ3"
      },
      "execution_count": 31,
      "outputs": []
    },
    {
      "cell_type": "code",
      "source": [
        "preds = model(inputs)\n",
        "loss = mse(preds, targets)\n",
        "print(loss)"
      ],
      "metadata": {
        "colab": {
          "base_uri": "https://localhost:8080/"
        },
        "id": "e7KR40aDSHD2",
        "outputId": "6f8edbd7-6926-46e6-b87d-42aada92d0ff"
      },
      "execution_count": 33,
      "outputs": [
        {
          "output_type": "stream",
          "name": "stdout",
          "text": [
            "tensor(260.9915, grad_fn=<DivBackward0>)\n"
          ]
        }
      ]
    },
    {
      "cell_type": "code",
      "source": [
        "preds"
      ],
      "metadata": {
        "colab": {
          "base_uri": "https://localhost:8080/"
        },
        "id": "5GGADF2bSwes",
        "outputId": "596ed8ae-acae-42b0-e35b-ec3472caea5f"
      },
      "execution_count": 34,
      "outputs": [
        {
          "output_type": "execute_result",
          "data": {
            "text/plain": [
              "tensor([[ 52.5346,  75.3997],\n",
              "        [ 83.1612,  96.1959],\n",
              "        [123.9690, 134.9495],\n",
              "        [ -5.9834,  66.1178],\n",
              "        [119.4887,  94.3076]], grad_fn=<AddBackward0>)"
            ]
          },
          "metadata": {},
          "execution_count": 34
        }
      ]
    },
    {
      "cell_type": "code",
      "source": [
        "targets"
      ],
      "metadata": {
        "colab": {
          "base_uri": "https://localhost:8080/"
        },
        "id": "VQsczxzgSzi1",
        "outputId": "4dea8bac-0c3c-4f13-d20b-8fdc34404130"
      },
      "execution_count": 35,
      "outputs": [
        {
          "output_type": "execute_result",
          "data": {
            "text/plain": [
              "tensor([[ 56.,  70.],\n",
              "        [ 81., 101.],\n",
              "        [119., 133.],\n",
              "        [ 22.,  37.],\n",
              "        [103., 119.]])"
            ]
          },
          "metadata": {},
          "execution_count": 35
        }
      ]
    },
    {
      "cell_type": "markdown",
      "source": [
        "### Linear regression by PyTorch Built in"
      ],
      "metadata": {
        "id": "b1jzRlKHTvvf"
      }
    },
    {
      "cell_type": "code",
      "source": [
        "import torch.nn as nn"
      ],
      "metadata": {
        "id": "6fMtO_hgT3i7"
      },
      "execution_count": 1,
      "outputs": []
    },
    {
      "cell_type": "code",
      "source": [
        "# Input (temp, rainfall, humidity)\n",
        "inputs = np.array([[73, 67, 43], \n",
        "                   [91, 88, 64], \n",
        "                   [87, 134, 58], \n",
        "                   [102, 43, 37], \n",
        "                   [69, 96, 70], \n",
        "                   [74, 66, 43], \n",
        "                   [91, 87, 65], \n",
        "                   [88, 134, 59], \n",
        "                   [101, 44, 37], \n",
        "                   [68, 96, 71], \n",
        "                   [73, 66, 44], \n",
        "                   [92, 87, 64], \n",
        "                   [87, 135, 57], \n",
        "                   [103, 43, 36], \n",
        "                   [68, 97, 70]], \n",
        "                  dtype='float32')\n",
        "\n",
        "# Targets (apples, oranges)\n",
        "targets = np.array([[56, 70], \n",
        "                    [81, 101], \n",
        "                    [119, 133], \n",
        "                    [22, 37], \n",
        "                    [103, 119],\n",
        "                    [57, 69], \n",
        "                    [80, 102], \n",
        "                    [118, 132], \n",
        "                    [21, 38], \n",
        "                    [104, 118], \n",
        "                    [57, 69], \n",
        "                    [82, 100], \n",
        "                    [118, 134], \n",
        "                    [20, 38], \n",
        "                    [102, 120]], \n",
        "                   dtype='float32')\n",
        "\n",
        "inputs = torch.from_numpy(inputs)\n",
        "targets = torch.from_numpy(targets)"
      ],
      "metadata": {
        "id": "cIeeG60YkBVN"
      },
      "execution_count": 4,
      "outputs": []
    },
    {
      "cell_type": "code",
      "source": [
        "print(inputs)"
      ],
      "metadata": {
        "colab": {
          "base_uri": "https://localhost:8080/"
        },
        "id": "hfQLXhYrkNTV",
        "outputId": "5c08853b-061b-48fd-a51b-1907d6b6ac28"
      },
      "execution_count": 5,
      "outputs": [
        {
          "output_type": "stream",
          "name": "stdout",
          "text": [
            "tensor([[ 73.,  67.,  43.],\n",
            "        [ 91.,  88.,  64.],\n",
            "        [ 87., 134.,  58.],\n",
            "        [102.,  43.,  37.],\n",
            "        [ 69.,  96.,  70.],\n",
            "        [ 74.,  66.,  43.],\n",
            "        [ 91.,  87.,  65.],\n",
            "        [ 88., 134.,  59.],\n",
            "        [101.,  44.,  37.],\n",
            "        [ 68.,  96.,  71.],\n",
            "        [ 73.,  66.,  44.],\n",
            "        [ 92.,  87.,  64.],\n",
            "        [ 87., 135.,  57.],\n",
            "        [103.,  43.,  36.],\n",
            "        [ 68.,  97.,  70.]])\n"
          ]
        }
      ]
    },
    {
      "cell_type": "markdown",
      "source": [
        "#### Dataset and DataLoader\n",
        "a TensorDataset, which allows access to rows from inputs and targets as tuples, and provides standard APIs for working with many different types of datasets in PyTorch."
      ],
      "metadata": {
        "id": "YX0Y3yJQkp7w"
      }
    },
    {
      "cell_type": "code",
      "source": [
        "from torch.utils.data import TensorDataset"
      ],
      "metadata": {
        "id": "Rco1T5OqkSdX"
      },
      "execution_count": 6,
      "outputs": []
    },
    {
      "cell_type": "markdown",
      "source": [
        "#####The `TensorDataset` allows us to access a small section of the training data using the array indexing notation (`[0:3]` in the above code). It returns a tuple with two elements. The first element contains the input variables for the selected rows, and the second contains the targets."
      ],
      "metadata": {
        "id": "RvFoctkIlPuB"
      }
    },
    {
      "cell_type": "code",
      "source": [
        "train_ds = TensorDataset(inputs, targets)\n",
        "train_ds[:3]"
      ],
      "metadata": {
        "colab": {
          "base_uri": "https://localhost:8080/"
        },
        "id": "GktXg9UalSFH",
        "outputId": "b905dd4e-8ca9-4aa3-ce57-040ab414da34"
      },
      "execution_count": 7,
      "outputs": [
        {
          "output_type": "execute_result",
          "data": {
            "text/plain": [
              "(tensor([[ 73.,  67.,  43.],\n",
              "         [ 91.,  88.,  64.],\n",
              "         [ 87., 134.,  58.]]), tensor([[ 56.,  70.],\n",
              "         [ 81., 101.],\n",
              "         [119., 133.]]))"
            ]
          },
          "metadata": {},
          "execution_count": 7
        }
      ]
    },
    {
      "cell_type": "markdown",
      "source": [
        "#### We will also create a DataLoader, which can split the data into batches of a predefined size while training. It also provides other utilities like shuffling and random sampling of the data."
      ],
      "metadata": {
        "id": "Zkyj0niwmibY"
      }
    },
    {
      "cell_type": "code",
      "source": [
        "from torch.utils.data import DataLoader"
      ],
      "metadata": {
        "id": "ArCDSVNJljfr"
      },
      "execution_count": 8,
      "outputs": []
    },
    {
      "cell_type": "code",
      "source": [
        "batch_size = 5\n",
        "train_dl = DataLoader(train_ds,batch_size, shuffle=True)"
      ],
      "metadata": {
        "id": "d0z0sKMpmvf3"
      },
      "execution_count": 10,
      "outputs": []
    },
    {
      "cell_type": "markdown",
      "source": [
        "#### nn.Linear"
      ],
      "metadata": {
        "id": "KPRSRtZ4oAjb"
      }
    },
    {
      "cell_type": "code",
      "source": [
        "model = nn.Linear(3,2)\n",
        "print(model.weight)\n",
        "print(model.bias)"
      ],
      "metadata": {
        "colab": {
          "base_uri": "https://localhost:8080/"
        },
        "id": "LT7ZBw1_nEIN",
        "outputId": "5616d149-a3eb-4083-a98e-092e0da648ca"
      },
      "execution_count": 11,
      "outputs": [
        {
          "output_type": "stream",
          "name": "stdout",
          "text": [
            "Parameter containing:\n",
            "tensor([[-0.1930, -0.1349, -0.3186],\n",
            "        [ 0.5747, -0.2177, -0.1297]], requires_grad=True)\n",
            "Parameter containing:\n",
            "tensor([-0.4162, -0.1517], requires_grad=True)\n"
          ]
        }
      ]
    },
    {
      "cell_type": "code",
      "source": [
        "# Generate predictions\n",
        "\n",
        "preds = model(inputs)\n",
        "preds"
      ],
      "metadata": {
        "colab": {
          "base_uri": "https://localhost:8080/"
        },
        "id": "bF8O_CM7oPe4",
        "outputId": "f842563b-31fc-480c-ddc8-e90dba857857"
      },
      "execution_count": 13,
      "outputs": [
        {
          "output_type": "execute_result",
          "data": {
            "text/plain": [
              "tensor([[-37.2400,  21.6405],\n",
              "        [-50.2362,  24.6897],\n",
              "        [-53.7587,  13.1554],\n",
              "        [-37.6871,  44.3112],\n",
              "        [-48.9813,   9.5252],\n",
              "        [-37.2980,  22.4329],\n",
              "        [-50.4198,  24.7776],\n",
              "        [-54.2702,  13.6004],\n",
              "        [-37.6291,  43.5188],\n",
              "        [-49.1068,   8.8207],\n",
              "        [-37.4236,  21.7284],\n",
              "        [-50.2942,  25.4821],\n",
              "        [-53.5751,  13.0675],\n",
              "        [-37.5616,  45.0157],\n",
              "        [-48.9232,   8.7328]], grad_fn=<AddmmBackward0>)"
            ]
          },
          "metadata": {},
          "execution_count": 13
        }
      ]
    },
    {
      "cell_type": "markdown",
      "source": [
        "#### Loss Function\n",
        "In-built mse loss"
      ],
      "metadata": {
        "id": "ykpc2enoo5_s"
      }
    },
    {
      "cell_type": "code",
      "source": [
        "import torch.nn.functional as F"
      ],
      "metadata": {
        "id": "6PJZbvebotdf"
      },
      "execution_count": 16,
      "outputs": []
    },
    {
      "cell_type": "code",
      "source": [
        "loss_fn = F.mse_loss"
      ],
      "metadata": {
        "id": "ztbujkY1pHfK"
      },
      "execution_count": 17,
      "outputs": []
    },
    {
      "cell_type": "code",
      "source": [
        "loss = loss_fn(model(inputs), targets)\n",
        "print(loss)"
      ],
      "metadata": {
        "colab": {
          "base_uri": "https://localhost:8080/"
        },
        "id": "_Nql5aYApkfI",
        "outputId": "22e0edad-5bfc-464b-b84d-5678d20b5007"
      },
      "execution_count": 19,
      "outputs": [
        {
          "output_type": "stream",
          "name": "stdout",
          "text": [
            "tensor(11677.7559, grad_fn=<MseLossBackward0>)\n"
          ]
        }
      ]
    },
    {
      "cell_type": "markdown",
      "source": [
        "#### Optimizers"
      ],
      "metadata": {
        "id": "xoH1yDOCqh24"
      }
    },
    {
      "cell_type": "code",
      "source": [
        "opt = torch.optim.SGD(model.parameters(), lr = 1e-5)"
      ],
      "metadata": {
        "id": "OjGYHV-LqBjL"
      },
      "execution_count": 20,
      "outputs": []
    },
    {
      "cell_type": "markdown",
      "source": [
        "#### Train the model"
      ],
      "metadata": {
        "id": "4XJVH2jZrObO"
      }
    },
    {
      "cell_type": "code",
      "source": [
        "# utility function to trai the model\n",
        "def fit(num_epochs, model, loss_fn, train_dl):\n",
        "\n",
        "  # Iterate over epochs\n",
        "  for epoch in range(num_epochs):\n",
        "\n",
        "    # Train with batches of data\n",
        "    for xb, yb in train_dl:\n",
        "\n",
        "      # Generate prediction\n",
        "      pred = model(xb)\n",
        "\n",
        "      # calculate loss\n",
        "      loss = loss_fn(pred, yb)\n",
        "\n",
        "      # Compute gradient\n",
        "      loss.backward()\n",
        "\n",
        "      # update parameters\n",
        "      opt.step()\n",
        "\n",
        "      # Reset gradient to zero\n",
        "      opt.zero_grad()\n",
        "\n",
        "    # Print the progress\n",
        "    if (epoch+1) % 10 == 0:\n",
        "            print('Epoch [{}/{}], Loss: {:.4f}'.format(epoch+1, num_epochs, loss.item()))"
      ],
      "metadata": {
        "id": "iHZrB0X7rRVU"
      },
      "execution_count": 24,
      "outputs": []
    },
    {
      "cell_type": "code",
      "source": [
        "fit(100, model, loss_fn, train_dl)"
      ],
      "metadata": {
        "colab": {
          "base_uri": "https://localhost:8080/"
        },
        "id": "W6ypnuw4sy66",
        "outputId": "43d1ec72-6e62-4841-b6b6-ca4cf5750bf2"
      },
      "execution_count": 25,
      "outputs": [
        {
          "output_type": "stream",
          "name": "stdout",
          "text": [
            "Epoch [10/100], Loss: 735.9875\n",
            "Epoch [20/100], Loss: 1060.4053\n",
            "Epoch [30/100], Loss: 206.3429\n",
            "Epoch [40/100], Loss: 328.6606\n",
            "Epoch [50/100], Loss: 260.1038\n",
            "Epoch [60/100], Loss: 114.3652\n",
            "Epoch [70/100], Loss: 170.1622\n",
            "Epoch [80/100], Loss: 126.8944\n",
            "Epoch [90/100], Loss: 79.7785\n",
            "Epoch [100/100], Loss: 27.6769\n"
          ]
        }
      ]
    },
    {
      "cell_type": "code",
      "source": [
        "# Generate predictions\n",
        "preds = model(inputs)\n",
        "preds"
      ],
      "metadata": {
        "colab": {
          "base_uri": "https://localhost:8080/"
        },
        "id": "5s8btAhstyuY",
        "outputId": "26398901-a2da-477b-8cbb-60ebf532e86a"
      },
      "execution_count": 26,
      "outputs": [
        {
          "output_type": "execute_result",
          "data": {
            "text/plain": [
              "tensor([[ 58.2143,  72.3782],\n",
              "        [ 79.7123,  98.0354],\n",
              "        [121.5642, 135.6409],\n",
              "        [ 28.1425,  48.7710],\n",
              "        [ 93.4593, 107.6625],\n",
              "        [ 57.0748,  71.4927],\n",
              "        [ 79.0623,  97.5458],\n",
              "        [121.6300, 135.9951],\n",
              "        [ 29.2820,  49.6565],\n",
              "        [ 93.9488, 108.0585],\n",
              "        [ 57.5643,  71.8887],\n",
              "        [ 78.5729,  97.1499],\n",
              "        [122.2142, 136.1305],\n",
              "        [ 27.6530,  48.3750],\n",
              "        [ 94.5988, 108.5480]], grad_fn=<AddmmBackward0>)"
            ]
          },
          "metadata": {},
          "execution_count": 26
        }
      ]
    },
    {
      "cell_type": "code",
      "source": [
        "targets"
      ],
      "metadata": {
        "colab": {
          "base_uri": "https://localhost:8080/"
        },
        "id": "TAtL7jHMuRWx",
        "outputId": "0aeadd31-91c4-4976-9354-5d1b1f1014f9"
      },
      "execution_count": 27,
      "outputs": [
        {
          "output_type": "execute_result",
          "data": {
            "text/plain": [
              "tensor([[ 56.,  70.],\n",
              "        [ 81., 101.],\n",
              "        [119., 133.],\n",
              "        [ 22.,  37.],\n",
              "        [103., 119.],\n",
              "        [ 57.,  69.],\n",
              "        [ 80., 102.],\n",
              "        [118., 132.],\n",
              "        [ 21.,  38.],\n",
              "        [104., 118.],\n",
              "        [ 57.,  69.],\n",
              "        [ 82., 100.],\n",
              "        [118., 134.],\n",
              "        [ 20.,  38.],\n",
              "        [102., 120.]])"
            ]
          },
          "metadata": {},
          "execution_count": 27
        }
      ]
    }
  ]
}