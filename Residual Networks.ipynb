{
  "nbformat": 4,
  "nbformat_minor": 0,
  "metadata": {
    "colab": {
      "name": "Resnet Networks.ipynb",
      "provenance": [],
      "authorship_tag": "ABX9TyPUMOKeJM3pDVhM38ZO66rw",
      "include_colab_link": true
    },
    "kernelspec": {
      "name": "python3",
      "display_name": "Python 3"
    },
    "language_info": {
      "name": "python"
    },
    "accelerator": "GPU",
    "widgets": {
      "application/vnd.jupyter.widget-state+json": {
        "05d407ebf5db4669ac7a1c0f1a75f8d1": {
          "model_module": "@jupyter-widgets/controls",
          "model_name": "HBoxModel",
          "model_module_version": "1.5.0",
          "state": {
            "_dom_classes": [],
            "_model_module": "@jupyter-widgets/controls",
            "_model_module_version": "1.5.0",
            "_model_name": "HBoxModel",
            "_view_count": null,
            "_view_module": "@jupyter-widgets/controls",
            "_view_module_version": "1.5.0",
            "_view_name": "HBoxView",
            "box_style": "",
            "children": [
              "IPY_MODEL_e31e1d2568cc4451ab2868a2df9f797a",
              "IPY_MODEL_0ef8d9769d764e70b3219d05126d1dab",
              "IPY_MODEL_dee00ebdca864872a86b0a22ca41760c"
            ],
            "layout": "IPY_MODEL_1a0b9f9b0a5043bbbdd0cc82c93a5e67"
          }
        },
        "e31e1d2568cc4451ab2868a2df9f797a": {
          "model_module": "@jupyter-widgets/controls",
          "model_name": "HTMLModel",
          "model_module_version": "1.5.0",
          "state": {
            "_dom_classes": [],
            "_model_module": "@jupyter-widgets/controls",
            "_model_module_version": "1.5.0",
            "_model_name": "HTMLModel",
            "_view_count": null,
            "_view_module": "@jupyter-widgets/controls",
            "_view_module_version": "1.5.0",
            "_view_name": "HTMLView",
            "description": "",
            "description_tooltip": null,
            "layout": "IPY_MODEL_d91033c6ed594372aa6ff4f3720a7588",
            "placeholder": "​",
            "style": "IPY_MODEL_8d4bacc174ad4946a001c706a077d6f4",
            "value": ""
          }
        },
        "0ef8d9769d764e70b3219d05126d1dab": {
          "model_module": "@jupyter-widgets/controls",
          "model_name": "FloatProgressModel",
          "model_module_version": "1.5.0",
          "state": {
            "_dom_classes": [],
            "_model_module": "@jupyter-widgets/controls",
            "_model_module_version": "1.5.0",
            "_model_name": "FloatProgressModel",
            "_view_count": null,
            "_view_module": "@jupyter-widgets/controls",
            "_view_module_version": "1.5.0",
            "_view_name": "ProgressView",
            "bar_style": "success",
            "description": "",
            "description_tooltip": null,
            "layout": "IPY_MODEL_916a962be627486b8259a30ea57a1b02",
            "max": 135107811,
            "min": 0,
            "orientation": "horizontal",
            "style": "IPY_MODEL_293458e30be84a7a9d3d4bc8946b96b9",
            "value": 135107811
          }
        },
        "dee00ebdca864872a86b0a22ca41760c": {
          "model_module": "@jupyter-widgets/controls",
          "model_name": "HTMLModel",
          "model_module_version": "1.5.0",
          "state": {
            "_dom_classes": [],
            "_model_module": "@jupyter-widgets/controls",
            "_model_module_version": "1.5.0",
            "_model_name": "HTMLModel",
            "_view_count": null,
            "_view_module": "@jupyter-widgets/controls",
            "_view_module_version": "1.5.0",
            "_view_name": "HTMLView",
            "description": "",
            "description_tooltip": null,
            "layout": "IPY_MODEL_a4ea6214f7384d1480c051facfc1dae5",
            "placeholder": "​",
            "style": "IPY_MODEL_455e96677b3e42a5a4cef7cfb2d30faf",
            "value": " 135108608/? [00:05&lt;00:00, 32189028.20it/s]"
          }
        },
        "1a0b9f9b0a5043bbbdd0cc82c93a5e67": {
          "model_module": "@jupyter-widgets/base",
          "model_name": "LayoutModel",
          "model_module_version": "1.2.0",
          "state": {
            "_model_module": "@jupyter-widgets/base",
            "_model_module_version": "1.2.0",
            "_model_name": "LayoutModel",
            "_view_count": null,
            "_view_module": "@jupyter-widgets/base",
            "_view_module_version": "1.2.0",
            "_view_name": "LayoutView",
            "align_content": null,
            "align_items": null,
            "align_self": null,
            "border": null,
            "bottom": null,
            "display": null,
            "flex": null,
            "flex_flow": null,
            "grid_area": null,
            "grid_auto_columns": null,
            "grid_auto_flow": null,
            "grid_auto_rows": null,
            "grid_column": null,
            "grid_gap": null,
            "grid_row": null,
            "grid_template_areas": null,
            "grid_template_columns": null,
            "grid_template_rows": null,
            "height": null,
            "justify_content": null,
            "justify_items": null,
            "left": null,
            "margin": null,
            "max_height": null,
            "max_width": null,
            "min_height": null,
            "min_width": null,
            "object_fit": null,
            "object_position": null,
            "order": null,
            "overflow": null,
            "overflow_x": null,
            "overflow_y": null,
            "padding": null,
            "right": null,
            "top": null,
            "visibility": null,
            "width": null
          }
        },
        "d91033c6ed594372aa6ff4f3720a7588": {
          "model_module": "@jupyter-widgets/base",
          "model_name": "LayoutModel",
          "model_module_version": "1.2.0",
          "state": {
            "_model_module": "@jupyter-widgets/base",
            "_model_module_version": "1.2.0",
            "_model_name": "LayoutModel",
            "_view_count": null,
            "_view_module": "@jupyter-widgets/base",
            "_view_module_version": "1.2.0",
            "_view_name": "LayoutView",
            "align_content": null,
            "align_items": null,
            "align_self": null,
            "border": null,
            "bottom": null,
            "display": null,
            "flex": null,
            "flex_flow": null,
            "grid_area": null,
            "grid_auto_columns": null,
            "grid_auto_flow": null,
            "grid_auto_rows": null,
            "grid_column": null,
            "grid_gap": null,
            "grid_row": null,
            "grid_template_areas": null,
            "grid_template_columns": null,
            "grid_template_rows": null,
            "height": null,
            "justify_content": null,
            "justify_items": null,
            "left": null,
            "margin": null,
            "max_height": null,
            "max_width": null,
            "min_height": null,
            "min_width": null,
            "object_fit": null,
            "object_position": null,
            "order": null,
            "overflow": null,
            "overflow_x": null,
            "overflow_y": null,
            "padding": null,
            "right": null,
            "top": null,
            "visibility": null,
            "width": null
          }
        },
        "8d4bacc174ad4946a001c706a077d6f4": {
          "model_module": "@jupyter-widgets/controls",
          "model_name": "DescriptionStyleModel",
          "model_module_version": "1.5.0",
          "state": {
            "_model_module": "@jupyter-widgets/controls",
            "_model_module_version": "1.5.0",
            "_model_name": "DescriptionStyleModel",
            "_view_count": null,
            "_view_module": "@jupyter-widgets/base",
            "_view_module_version": "1.2.0",
            "_view_name": "StyleView",
            "description_width": ""
          }
        },
        "916a962be627486b8259a30ea57a1b02": {
          "model_module": "@jupyter-widgets/base",
          "model_name": "LayoutModel",
          "model_module_version": "1.2.0",
          "state": {
            "_model_module": "@jupyter-widgets/base",
            "_model_module_version": "1.2.0",
            "_model_name": "LayoutModel",
            "_view_count": null,
            "_view_module": "@jupyter-widgets/base",
            "_view_module_version": "1.2.0",
            "_view_name": "LayoutView",
            "align_content": null,
            "align_items": null,
            "align_self": null,
            "border": null,
            "bottom": null,
            "display": null,
            "flex": null,
            "flex_flow": null,
            "grid_area": null,
            "grid_auto_columns": null,
            "grid_auto_flow": null,
            "grid_auto_rows": null,
            "grid_column": null,
            "grid_gap": null,
            "grid_row": null,
            "grid_template_areas": null,
            "grid_template_columns": null,
            "grid_template_rows": null,
            "height": null,
            "justify_content": null,
            "justify_items": null,
            "left": null,
            "margin": null,
            "max_height": null,
            "max_width": null,
            "min_height": null,
            "min_width": null,
            "object_fit": null,
            "object_position": null,
            "order": null,
            "overflow": null,
            "overflow_x": null,
            "overflow_y": null,
            "padding": null,
            "right": null,
            "top": null,
            "visibility": null,
            "width": null
          }
        },
        "293458e30be84a7a9d3d4bc8946b96b9": {
          "model_module": "@jupyter-widgets/controls",
          "model_name": "ProgressStyleModel",
          "model_module_version": "1.5.0",
          "state": {
            "_model_module": "@jupyter-widgets/controls",
            "_model_module_version": "1.5.0",
            "_model_name": "ProgressStyleModel",
            "_view_count": null,
            "_view_module": "@jupyter-widgets/base",
            "_view_module_version": "1.2.0",
            "_view_name": "StyleView",
            "bar_color": null,
            "description_width": ""
          }
        },
        "a4ea6214f7384d1480c051facfc1dae5": {
          "model_module": "@jupyter-widgets/base",
          "model_name": "LayoutModel",
          "model_module_version": "1.2.0",
          "state": {
            "_model_module": "@jupyter-widgets/base",
            "_model_module_version": "1.2.0",
            "_model_name": "LayoutModel",
            "_view_count": null,
            "_view_module": "@jupyter-widgets/base",
            "_view_module_version": "1.2.0",
            "_view_name": "LayoutView",
            "align_content": null,
            "align_items": null,
            "align_self": null,
            "border": null,
            "bottom": null,
            "display": null,
            "flex": null,
            "flex_flow": null,
            "grid_area": null,
            "grid_auto_columns": null,
            "grid_auto_flow": null,
            "grid_auto_rows": null,
            "grid_column": null,
            "grid_gap": null,
            "grid_row": null,
            "grid_template_areas": null,
            "grid_template_columns": null,
            "grid_template_rows": null,
            "height": null,
            "justify_content": null,
            "justify_items": null,
            "left": null,
            "margin": null,
            "max_height": null,
            "max_width": null,
            "min_height": null,
            "min_width": null,
            "object_fit": null,
            "object_position": null,
            "order": null,
            "overflow": null,
            "overflow_x": null,
            "overflow_y": null,
            "padding": null,
            "right": null,
            "top": null,
            "visibility": null,
            "width": null
          }
        },
        "455e96677b3e42a5a4cef7cfb2d30faf": {
          "model_module": "@jupyter-widgets/controls",
          "model_name": "DescriptionStyleModel",
          "model_module_version": "1.5.0",
          "state": {
            "_model_module": "@jupyter-widgets/controls",
            "_model_module_version": "1.5.0",
            "_model_name": "DescriptionStyleModel",
            "_view_count": null,
            "_view_module": "@jupyter-widgets/base",
            "_view_module_version": "1.2.0",
            "_view_name": "StyleView",
            "description_width": ""
          }
        }
      }
    }
  },
  "cells": [
    {
      "cell_type": "markdown",
      "metadata": {
        "id": "view-in-github",
        "colab_type": "text"
      },
      "source": [
        "<a href=\"https://colab.research.google.com/github/GauraoM/PyTorch/blob/main/Residual%20Networks.ipynb\" target=\"_parent\"><img src=\"https://colab.research.google.com/assets/colab-badge.svg\" alt=\"Open In Colab\"/></a>"
      ]
    },
    {
      "cell_type": "code",
      "execution_count": 1,
      "metadata": {
        "id": "ClMuvsvzFIcO"
      },
      "outputs": [],
      "source": [
        "import os\n",
        "import torch\n",
        "import torchvision\n",
        "import tarfile\n",
        "from torchvision.datasets.utils import download_url\n",
        "from torch.utils.data import random_split"
      ]
    },
    {
      "cell_type": "code",
      "source": [
        "# Download the dataset\n",
        "dataset_url = \"https://s3.amazonaws.com/fast-ai-imageclas/cifar10.tgz\"\n",
        "download_url(dataset_url, '.')"
      ],
      "metadata": {
        "colab": {
          "base_uri": "https://localhost:8080/",
          "height": 66,
          "referenced_widgets": [
            "05d407ebf5db4669ac7a1c0f1a75f8d1",
            "e31e1d2568cc4451ab2868a2df9f797a",
            "0ef8d9769d764e70b3219d05126d1dab",
            "dee00ebdca864872a86b0a22ca41760c",
            "1a0b9f9b0a5043bbbdd0cc82c93a5e67",
            "d91033c6ed594372aa6ff4f3720a7588",
            "8d4bacc174ad4946a001c706a077d6f4",
            "916a962be627486b8259a30ea57a1b02",
            "293458e30be84a7a9d3d4bc8946b96b9",
            "a4ea6214f7384d1480c051facfc1dae5",
            "455e96677b3e42a5a4cef7cfb2d30faf"
          ]
        },
        "id": "2sIDIrYhFTgl",
        "outputId": "cf355942-202c-41ba-c938-b20eafc6cb21"
      },
      "execution_count": 2,
      "outputs": [
        {
          "output_type": "stream",
          "name": "stdout",
          "text": [
            "Downloading https://s3.amazonaws.com/fast-ai-imageclas/cifar10.tgz to ./cifar10.tgz\n"
          ]
        },
        {
          "output_type": "display_data",
          "data": {
            "text/plain": [
              "  0%|          | 0/135107811 [00:00<?, ?it/s]"
            ],
            "application/vnd.jupyter.widget-view+json": {
              "version_major": 2,
              "version_minor": 0,
              "model_id": "05d407ebf5db4669ac7a1c0f1a75f8d1"
            }
          },
          "metadata": {}
        }
      ]
    },
    {
      "cell_type": "code",
      "source": [
        "# Extract the file\n",
        "with tarfile.open(\"/content/cifar10.tgz\",\"r:gz\") as tar:\n",
        "  tar.extractall(path = \".\")"
      ],
      "metadata": {
        "id": "cbewg-yHFVwz"
      },
      "execution_count": 3,
      "outputs": []
    },
    {
      "cell_type": "code",
      "source": [
        "data_dir = \"/content/cifar10\"\n",
        "\n",
        "# get the folders\n",
        "print(os.listdir(data_dir))\n",
        "# get the folders inside the classes\n",
        "classes = os.listdir(data_dir + \"/train\") \n",
        "print(classes)"
      ],
      "metadata": {
        "colab": {
          "base_uri": "https://localhost:8080/"
        },
        "id": "JcdZTvu8FWjg",
        "outputId": "18876fda-ea14-47bb-fd3f-e145262e3a68"
      },
      "execution_count": 4,
      "outputs": [
        {
          "output_type": "stream",
          "name": "stdout",
          "text": [
            "['test', 'train']\n",
            "['deer', 'truck', 'cat', 'frog', 'airplane', 'dog', 'automobile', 'ship', 'bird', 'horse']\n"
          ]
        }
      ]
    },
    {
      "cell_type": "code",
      "source": [
        "# Printing files from folder\n",
        "airplane_files = os.listdir(data_dir + \"/train/airplane\")\n",
        "print(\"No. of planes:\", len(airplane_files))\n",
        "print(airplane_files[:5]) "
      ],
      "metadata": {
        "colab": {
          "base_uri": "https://localhost:8080/"
        },
        "id": "gNYQjOxeFY2G",
        "outputId": "1072d2a9-3918-4b52-aed4-fe5b4538e2fa"
      },
      "execution_count": 5,
      "outputs": [
        {
          "output_type": "stream",
          "name": "stdout",
          "text": [
            "No. of planes: 5000\n",
            "['0157.png', '4222.png', '0730.png', '3399.png', '0061.png']\n"
          ]
        }
      ]
    },
    {
      "cell_type": "code",
      "source": [
        "ship_test_files = os.listdir(data_dir + \"/test/ship\")\n",
        "print(\"No. of planes:\", len(ship_test_files))\n",
        "print(ship_test_files[:5])"
      ],
      "metadata": {
        "colab": {
          "base_uri": "https://localhost:8080/"
        },
        "id": "CQaDBnEmFd5E",
        "outputId": "252ce1be-369c-4e51-acd0-fccdd8efd06b"
      },
      "execution_count": 6,
      "outputs": [
        {
          "output_type": "stream",
          "name": "stdout",
          "text": [
            "No. of planes: 1000\n",
            "['0157.png', '0730.png', '0061.png', '0640.png', '0345.png']\n"
          ]
        }
      ]
    },
    {
      "cell_type": "code",
      "source": [
        "## ImageFolder class from torchvision to load the dataset as pytorch tensor\n",
        "from torchvision.datasets import ImageFolder\n",
        "import torchvision.transforms as tt"
      ],
      "metadata": {
        "id": "weUwzlRMFg_o"
      },
      "execution_count": 7,
      "outputs": []
    },
    {
      "cell_type": "code",
      "source": [
        "## Data Transform (Normalization and data agumentation)\n",
        "stats = ((0.4914, 0.4822, 0.4465), (0.2023, 0.1994, 0.2010))\n",
        "train_tfms = tt.Compose([tt.RandomCrop(32, padding=4, padding_mode=\"reflect\"),\n",
        "                         tt.RandomHorizontalFlip(),\n",
        "                         tt.ToTensor(),\n",
        "                         tt.Normalize(*stats)\n",
        "                         ])\n",
        "\n",
        "valid_tfms = tt.Compose([tt.ToTensor(),tt.Normalize(*stats)])"
      ],
      "metadata": {
        "id": "m9EPohrvFhze"
      },
      "execution_count": 8,
      "outputs": []
    },
    {
      "cell_type": "code",
      "source": [
        "# PyTorch Datasets\n",
        "train_ds = ImageFolder(data_dir + \"/train\", train_tfms)\n",
        "valid_ds = ImageFolder(data_dir + \"/test\", valid_tfms)"
      ],
      "metadata": {
        "id": "A8zRqtPaFkJb"
      },
      "execution_count": 9,
      "outputs": []
    },
    {
      "cell_type": "code",
      "source": [
        "from torch.utils.data import DataLoader"
      ],
      "metadata": {
        "id": "Q6O6VranFmmT"
      },
      "execution_count": 10,
      "outputs": []
    },
    {
      "cell_type": "code",
      "source": [
        "batch_size = 256"
      ],
      "metadata": {
        "id": "s-qpJinyFqDe"
      },
      "execution_count": 11,
      "outputs": []
    },
    {
      "cell_type": "code",
      "source": [
        "# Pytorch dataloader\n",
        "# num_workers = no. of cores of cpu/gpu to utilize for pareallel operations\n",
        "train_dl = DataLoader(train_ds, batch_size, shuffle = True, num_workers=8, pin_memory=True)\n",
        "\n",
        "valid_dl = DataLoader(valid_ds, batch_size, shuffle = False, num_workers=8, pin_memory=True)"
      ],
      "metadata": {
        "colab": {
          "base_uri": "https://localhost:8080/"
        },
        "id": "QNSVLTAmFsVn",
        "outputId": "c95d3a51-e582-46aa-d492-0809697e877a"
      },
      "execution_count": 12,
      "outputs": [
        {
          "output_type": "stream",
          "name": "stderr",
          "text": [
            "/usr/local/lib/python3.7/dist-packages/torch/utils/data/dataloader.py:481: UserWarning: This DataLoader will create 8 worker processes in total. Our suggested max number of worker in current system is 2, which is smaller than what this DataLoader is going to create. Please be aware that excessive worker creation might get DataLoader running slow or even freeze, lower the worker number to avoid potential slowness/freeze if necessary.\n",
            "  cpuset_checked))\n"
          ]
        }
      ]
    },
    {
      "cell_type": "code",
      "source": [
        "from torchvision.utils import make_grid\n",
        "import matplotlib.pyplot as plt"
      ],
      "metadata": {
        "id": "7qS6x6N6FtaO"
      },
      "execution_count": 13,
      "outputs": []
    },
    {
      "cell_type": "code",
      "source": [
        "def show_batch(dl):\n",
        "  for images, labels in dl:\n",
        "    fig, ax = plt.subplots(figsize =(16,16))\n",
        "    ax.set_xticks([])\n",
        "    ax.set_yticks([])\n",
        "    ax.imshow(make_grid(images[:100],10).permute(1,2,0))\n",
        "    break"
      ],
      "metadata": {
        "id": "BGllLlz3FxLO"
      },
      "execution_count": 14,
      "outputs": []
    },
    {
      "cell_type": "code",
      "source": [
        "import torch.nn as nn\n",
        "import torch.nn.functional as F"
      ],
      "metadata": {
        "id": "S9L88GXxFx8Y"
      },
      "execution_count": 15,
      "outputs": []
    },
    {
      "cell_type": "code",
      "source": [
        "class SimpleResidualBlock(nn.Module):\n",
        "  def __init__(self):\n",
        "    super().__init__()\n",
        "    self.conv1 = nn.Conv2d(in_channels=3, out_channels=3, kernel_size=3, stride=1, padding=1)\n",
        "    self.relu1 = nn.ReLU()\n",
        "    self.conv2 = nn.Conv2d(in_channels=3, out_channels=3, kernel_size=3, stride=1, padding=1)\n",
        "    self.relu2 = nn.ReLU()\n",
        "\n",
        "  def forward(self,x):\n",
        "    out = self.conv1(x)\n",
        "    out = self.relu1(out)\n",
        "    out = self.conv2(out)\n",
        "    return self.relu2(out+x)"
      ],
      "metadata": {
        "id": "ovcW8OK1Fz0e"
      },
      "execution_count": 16,
      "outputs": []
    },
    {
      "cell_type": "code",
      "source": [
        "simple_resnet = SimpleResidualBlock()\n",
        "\n",
        "for images, labels in train_dl:\n",
        "  out = simple_resnet(images)\n",
        "  print(out.shape)\n",
        "  break"
      ],
      "metadata": {
        "colab": {
          "base_uri": "https://localhost:8080/"
        },
        "id": "bcB2jrd5F3cl",
        "outputId": "fdcd8a67-eecc-4b6b-a250-0e8bc4265f3b"
      },
      "execution_count": 17,
      "outputs": [
        {
          "output_type": "stream",
          "name": "stderr",
          "text": [
            "/usr/local/lib/python3.7/dist-packages/torch/utils/data/dataloader.py:481: UserWarning: This DataLoader will create 8 worker processes in total. Our suggested max number of worker in current system is 2, which is smaller than what this DataLoader is going to create. Please be aware that excessive worker creation might get DataLoader running slow or even freeze, lower the worker number to avoid potential slowness/freeze if necessary.\n",
            "  cpuset_checked))\n"
          ]
        },
        {
          "output_type": "stream",
          "name": "stdout",
          "text": [
            "torch.Size([256, 3, 32, 32])\n"
          ]
        }
      ]
    },
    {
      "cell_type": "code",
      "source": [
        "from torch.nn.modules.batchnorm import BatchNorm2d\n",
        "def conv_2d(ni, nf, stride=1, ks=3):\n",
        "  return nn.Conv2d(in_channels=ni, out_channels=nf, kernel_size=ks, stride=stride, padding=ks//2, bias=False)\n",
        "\n",
        "def bn_relu_conv(ni, nf):\n",
        "  return nn.Sequential(nn.BatchNorm2d(ni), nn.ReLU(inplace=True),conv_2d(ni, nf))\n",
        "\n",
        "class ResidualBlock(nn.Module):\n",
        "  def __init__(self, ni, nf, stride=1):\n",
        "    super().__init__()\n",
        "    self.bn = nn.BatchNorm2d(ni)\n",
        "    self.conv1 = conv_2d(ni, nf, stride)\n",
        "    self.conv2 = bn_relu_conv(nf,nf)\n",
        "    self.shortcut = lambda x:x\n",
        "    if ni != nf:\n",
        "      self.shortcut = conv_2d(ni, nf, stride, 1)\n",
        "\n",
        "  def forward(self,x):\n",
        "    x = F.relu(self.bn(x), inplace=True)\n",
        "    r = self.shortcut(x)\n",
        "    x = self.conv1(x)\n",
        "    x = self.conv2(x) * 0.2\n",
        "    return x.add_(r)"
      ],
      "metadata": {
        "id": "El-Y6G4AF4PI"
      },
      "execution_count": 18,
      "outputs": []
    },
    {
      "cell_type": "code",
      "source": [
        "def make_group(N, ni, nf, stride):\n",
        "  start = ResidualBlock(ni, nf, stride)\n",
        "  rest = [ResidualBlock(nf, nf) for j in range(1,N) ]\n",
        "  return [start] + rest\n",
        "\n",
        "class Flatten(nn.Module):\n",
        "  def __init__(self): super().__init__()\n",
        "  def forward(self,x): return x.view(x.size(0), -1)\n",
        "\n",
        "class WideResNet(nn.Module):\n",
        "  def __init__(self, n_groups, N, n_classes, k=1, n_start=16):\n",
        "    super().__init__()\n",
        "    # Increase channels to n_start using conv layer\n",
        "    layers = [conv_2d(3, n_start)]\n",
        "    n_channels = [n_start]\n",
        "\n",
        "    # Add groups of BasicBlock(increase channels and downsample)\n",
        "    for i in range(n_groups):\n",
        "      n_channels.append(n_start*(2**i)*k)\n",
        "      stride = 2 if i>0 else 1\n",
        "      layers += make_group(N, n_channels[i], n_channels[i+1], stride)\n",
        "\n",
        "    # Pool. faltten and add linear layers for classification\n",
        "    layers += [nn.BatchNorm2d(n_channels[3]),\n",
        "               nn.ReLU(inplace=True),\n",
        "               nn.AdaptiveAvgPool2d(1),\n",
        "               Flatten(),\n",
        "               nn.Linear(n_channels[3], n_classes)] \n",
        "\n",
        "    self.features = nn.Sequential(*layers)\n",
        "\n",
        "  def forward(self, x): return self.features(x)\n",
        "\n",
        "def wrn_22():\n",
        "  return WideResNet(n_groups=3, N=3, n_classes=10, k=6)\n"
      ],
      "metadata": {
        "id": "3EVRKPowF7fh"
      },
      "execution_count": 19,
      "outputs": []
    },
    {
      "cell_type": "code",
      "source": [
        "model = wrn_22()"
      ],
      "metadata": {
        "id": "RsSUGxs-GBZF"
      },
      "execution_count": 20,
      "outputs": []
    },
    {
      "cell_type": "code",
      "source": [
        "model"
      ],
      "metadata": {
        "colab": {
          "base_uri": "https://localhost:8080/"
        },
        "id": "t2LkaUkXGCJb",
        "outputId": "5214b269-d079-4552-dec6-9fb46b6d80f4"
      },
      "execution_count": 21,
      "outputs": [
        {
          "output_type": "execute_result",
          "data": {
            "text/plain": [
              "WideResNet(\n",
              "  (features): Sequential(\n",
              "    (0): Conv2d(3, 16, kernel_size=(3, 3), stride=(1, 1), padding=(1, 1), bias=False)\n",
              "    (1): ResidualBlock(\n",
              "      (bn): BatchNorm2d(16, eps=1e-05, momentum=0.1, affine=True, track_running_stats=True)\n",
              "      (conv1): Conv2d(16, 96, kernel_size=(3, 3), stride=(1, 1), padding=(1, 1), bias=False)\n",
              "      (conv2): Sequential(\n",
              "        (0): BatchNorm2d(96, eps=1e-05, momentum=0.1, affine=True, track_running_stats=True)\n",
              "        (1): ReLU(inplace=True)\n",
              "        (2): Conv2d(96, 96, kernel_size=(3, 3), stride=(1, 1), padding=(1, 1), bias=False)\n",
              "      )\n",
              "      (shortcut): Conv2d(16, 96, kernel_size=(1, 1), stride=(1, 1), bias=False)\n",
              "    )\n",
              "    (2): ResidualBlock(\n",
              "      (bn): BatchNorm2d(96, eps=1e-05, momentum=0.1, affine=True, track_running_stats=True)\n",
              "      (conv1): Conv2d(96, 96, kernel_size=(3, 3), stride=(1, 1), padding=(1, 1), bias=False)\n",
              "      (conv2): Sequential(\n",
              "        (0): BatchNorm2d(96, eps=1e-05, momentum=0.1, affine=True, track_running_stats=True)\n",
              "        (1): ReLU(inplace=True)\n",
              "        (2): Conv2d(96, 96, kernel_size=(3, 3), stride=(1, 1), padding=(1, 1), bias=False)\n",
              "      )\n",
              "    )\n",
              "    (3): ResidualBlock(\n",
              "      (bn): BatchNorm2d(96, eps=1e-05, momentum=0.1, affine=True, track_running_stats=True)\n",
              "      (conv1): Conv2d(96, 96, kernel_size=(3, 3), stride=(1, 1), padding=(1, 1), bias=False)\n",
              "      (conv2): Sequential(\n",
              "        (0): BatchNorm2d(96, eps=1e-05, momentum=0.1, affine=True, track_running_stats=True)\n",
              "        (1): ReLU(inplace=True)\n",
              "        (2): Conv2d(96, 96, kernel_size=(3, 3), stride=(1, 1), padding=(1, 1), bias=False)\n",
              "      )\n",
              "    )\n",
              "    (4): ResidualBlock(\n",
              "      (bn): BatchNorm2d(96, eps=1e-05, momentum=0.1, affine=True, track_running_stats=True)\n",
              "      (conv1): Conv2d(96, 192, kernel_size=(3, 3), stride=(2, 2), padding=(1, 1), bias=False)\n",
              "      (conv2): Sequential(\n",
              "        (0): BatchNorm2d(192, eps=1e-05, momentum=0.1, affine=True, track_running_stats=True)\n",
              "        (1): ReLU(inplace=True)\n",
              "        (2): Conv2d(192, 192, kernel_size=(3, 3), stride=(1, 1), padding=(1, 1), bias=False)\n",
              "      )\n",
              "      (shortcut): Conv2d(96, 192, kernel_size=(1, 1), stride=(2, 2), bias=False)\n",
              "    )\n",
              "    (5): ResidualBlock(\n",
              "      (bn): BatchNorm2d(192, eps=1e-05, momentum=0.1, affine=True, track_running_stats=True)\n",
              "      (conv1): Conv2d(192, 192, kernel_size=(3, 3), stride=(1, 1), padding=(1, 1), bias=False)\n",
              "      (conv2): Sequential(\n",
              "        (0): BatchNorm2d(192, eps=1e-05, momentum=0.1, affine=True, track_running_stats=True)\n",
              "        (1): ReLU(inplace=True)\n",
              "        (2): Conv2d(192, 192, kernel_size=(3, 3), stride=(1, 1), padding=(1, 1), bias=False)\n",
              "      )\n",
              "    )\n",
              "    (6): ResidualBlock(\n",
              "      (bn): BatchNorm2d(192, eps=1e-05, momentum=0.1, affine=True, track_running_stats=True)\n",
              "      (conv1): Conv2d(192, 192, kernel_size=(3, 3), stride=(1, 1), padding=(1, 1), bias=False)\n",
              "      (conv2): Sequential(\n",
              "        (0): BatchNorm2d(192, eps=1e-05, momentum=0.1, affine=True, track_running_stats=True)\n",
              "        (1): ReLU(inplace=True)\n",
              "        (2): Conv2d(192, 192, kernel_size=(3, 3), stride=(1, 1), padding=(1, 1), bias=False)\n",
              "      )\n",
              "    )\n",
              "    (7): ResidualBlock(\n",
              "      (bn): BatchNorm2d(192, eps=1e-05, momentum=0.1, affine=True, track_running_stats=True)\n",
              "      (conv1): Conv2d(192, 384, kernel_size=(3, 3), stride=(2, 2), padding=(1, 1), bias=False)\n",
              "      (conv2): Sequential(\n",
              "        (0): BatchNorm2d(384, eps=1e-05, momentum=0.1, affine=True, track_running_stats=True)\n",
              "        (1): ReLU(inplace=True)\n",
              "        (2): Conv2d(384, 384, kernel_size=(3, 3), stride=(1, 1), padding=(1, 1), bias=False)\n",
              "      )\n",
              "      (shortcut): Conv2d(192, 384, kernel_size=(1, 1), stride=(2, 2), bias=False)\n",
              "    )\n",
              "    (8): ResidualBlock(\n",
              "      (bn): BatchNorm2d(384, eps=1e-05, momentum=0.1, affine=True, track_running_stats=True)\n",
              "      (conv1): Conv2d(384, 384, kernel_size=(3, 3), stride=(1, 1), padding=(1, 1), bias=False)\n",
              "      (conv2): Sequential(\n",
              "        (0): BatchNorm2d(384, eps=1e-05, momentum=0.1, affine=True, track_running_stats=True)\n",
              "        (1): ReLU(inplace=True)\n",
              "        (2): Conv2d(384, 384, kernel_size=(3, 3), stride=(1, 1), padding=(1, 1), bias=False)\n",
              "      )\n",
              "    )\n",
              "    (9): ResidualBlock(\n",
              "      (bn): BatchNorm2d(384, eps=1e-05, momentum=0.1, affine=True, track_running_stats=True)\n",
              "      (conv1): Conv2d(384, 384, kernel_size=(3, 3), stride=(1, 1), padding=(1, 1), bias=False)\n",
              "      (conv2): Sequential(\n",
              "        (0): BatchNorm2d(384, eps=1e-05, momentum=0.1, affine=True, track_running_stats=True)\n",
              "        (1): ReLU(inplace=True)\n",
              "        (2): Conv2d(384, 384, kernel_size=(3, 3), stride=(1, 1), padding=(1, 1), bias=False)\n",
              "      )\n",
              "    )\n",
              "    (10): BatchNorm2d(384, eps=1e-05, momentum=0.1, affine=True, track_running_stats=True)\n",
              "    (11): ReLU(inplace=True)\n",
              "    (12): AdaptiveAvgPool2d(output_size=1)\n",
              "    (13): Flatten()\n",
              "    (14): Linear(in_features=384, out_features=10, bias=True)\n",
              "  )\n",
              ")"
            ]
          },
          "metadata": {},
          "execution_count": 21
        }
      ]
    },
    {
      "cell_type": "code",
      "source": [
        "# lets see an example\n",
        "for images, labels in train_dl:\n",
        "    print('images.shape',images.shape)\n",
        "    out = model(images)\n",
        "    print('out.shape',out.shape)\n",
        "    break"
      ],
      "metadata": {
        "colab": {
          "base_uri": "https://localhost:8080/"
        },
        "id": "3OW2x2aFGD_r",
        "outputId": "87216699-cb7b-4201-e529-e3f793a430ce"
      },
      "execution_count": 22,
      "outputs": [
        {
          "output_type": "stream",
          "name": "stderr",
          "text": [
            "/usr/local/lib/python3.7/dist-packages/torch/utils/data/dataloader.py:481: UserWarning: This DataLoader will create 8 worker processes in total. Our suggested max number of worker in current system is 2, which is smaller than what this DataLoader is going to create. Please be aware that excessive worker creation might get DataLoader running slow or even freeze, lower the worker number to avoid potential slowness/freeze if necessary.\n",
            "  cpuset_checked))\n"
          ]
        },
        {
          "output_type": "stream",
          "name": "stdout",
          "text": [
            "images.shape torch.Size([256, 3, 32, 32])\n",
            "out.shape torch.Size([256, 10])\n"
          ]
        }
      ]
    },
    {
      "cell_type": "code",
      "source": [
        "from fastai.basic_data import DataBunch\n",
        "from fastai.train import Learner\n",
        "from fastai.metrics import accuracy"
      ],
      "metadata": {
        "id": "QCevPPMfGGiL"
      },
      "execution_count": 23,
      "outputs": []
    },
    {
      "cell_type": "markdown",
      "source": [
        "####First we create DataBunch object to using the DataLoader we created previously and then we created a learner object using the DataBunch, model and loss function"
      ],
      "metadata": {
        "id": "XPl7qNxVGmNi"
      }
    },
    {
      "cell_type": "code",
      "source": [
        "data = DataBunch.create(train_ds, valid_ds, bs=batch_size, path = \"/content/cifar10\")\n",
        "learner = Learner(data, model, loss_func=F.cross_entropy, metrics=[accuracy])\n",
        "learner.clip = 0.1"
      ],
      "metadata": {
        "id": "vbNei17FGIZm"
      },
      "execution_count": 24,
      "outputs": []
    },
    {
      "cell_type": "code",
      "source": [
        "learner.lr_find()"
      ],
      "metadata": {
        "colab": {
          "base_uri": "https://localhost:8080/",
          "height": 113
        },
        "id": "UUVjdjjAGLfn",
        "outputId": "3d279eb2-faf2-4480-8aa4-1df54cd7fd71"
      },
      "execution_count": 25,
      "outputs": [
        {
          "output_type": "display_data",
          "data": {
            "text/plain": [
              "<IPython.core.display.HTML object>"
            ],
            "text/html": [
              "\n",
              "<style>\n",
              "    /* Turns off some styling */\n",
              "    progress {\n",
              "        /* gets rid of default border in Firefox and Opera. */\n",
              "        border: none;\n",
              "        /* Needs to be in here for Safari polyfill so background images work as expected. */\n",
              "        background-size: auto;\n",
              "    }\n",
              "    .progress-bar-interrupted, .progress-bar-interrupted::-webkit-progress-bar {\n",
              "        background: #F44336;\n",
              "    }\n",
              "</style>\n"
            ]
          },
          "metadata": {}
        },
        {
          "output_type": "display_data",
          "data": {
            "text/plain": [
              "<IPython.core.display.HTML object>"
            ],
            "text/html": [
              "\n",
              "    <div>\n",
              "      <progress value='0' class='' max='1' style='width:300px; height:20px; vertical-align: middle;'></progress>\n",
              "      0.00% [0/1 00:00<00:00]\n",
              "    </div>\n",
              "    \n",
              "<table border=\"1\" class=\"dataframe\">\n",
              "  <thead>\n",
              "    <tr style=\"text-align: left;\">\n",
              "      <th>epoch</th>\n",
              "      <th>train_loss</th>\n",
              "      <th>valid_loss</th>\n",
              "      <th>accuracy</th>\n",
              "      <th>time</th>\n",
              "    </tr>\n",
              "  </thead>\n",
              "  <tbody>\n",
              "  </tbody>\n",
              "</table><p>\n",
              "\n",
              "    <div>\n",
              "      <progress value='99' class='' max='195' style='width:300px; height:20px; vertical-align: middle;'></progress>\n",
              "      50.77% [99/195 02:35<02:30 6.5745]\n",
              "    </div>\n",
              "    "
            ]
          },
          "metadata": {}
        },
        {
          "output_type": "stream",
          "name": "stdout",
          "text": [
            "LR Finder is complete, type {learner_name}.recorder.plot() to see the graph.\n"
          ]
        }
      ]
    },
    {
      "cell_type": "code",
      "source": [
        "learner.recorder.plot()"
      ],
      "metadata": {
        "colab": {
          "base_uri": "https://localhost:8080/",
          "height": 279
        },
        "id": "Ywlw3H23GN6H",
        "outputId": "60290ee7-a3ff-498c-a5bb-bc1dd457ba9b"
      },
      "execution_count": 26,
      "outputs": [
        {
          "output_type": "display_data",
          "data": {
            "text/plain": [
              "<Figure size 432x288 with 1 Axes>"
            ],
            "image/png": "[encoded data removed]"
          },
          "metadata": {
            "needs_background": "light"
          }
        }
      ]
    },
    {
      "cell_type": "markdown",
      "source": [
        "####To train the model using 1-cycle policy, we .fit_one_cycle method, pass the no. of epochs and maximum learning rate. We also use weight decay, which is another regularization parameter which prevents the weight from becoming too large by adding an additional term to the loss function."
      ],
      "metadata": {
        "id": "Ccm5bYIdGew7"
      }
    },
    {
      "cell_type": "code",
      "source": [
        "learner.fit_one_cycle(5,1e-01,wd=1e-4)"
      ],
      "metadata": {
        "colab": {
          "base_uri": "https://localhost:8080/",
          "height": 206
        },
        "id": "pIurRDUyGP4X",
        "outputId": "5645d70e-962e-4005-85e5-62594df81117"
      },
      "execution_count": 27,
      "outputs": [
        {
          "output_type": "display_data",
          "data": {
            "text/plain": [
              "<IPython.core.display.HTML object>"
            ],
            "text/html": [
              "\n",
              "<style>\n",
              "    /* Turns off some styling */\n",
              "    progress {\n",
              "        /* gets rid of default border in Firefox and Opera. */\n",
              "        border: none;\n",
              "        /* Needs to be in here for Safari polyfill so background images work as expected. */\n",
              "        background-size: auto;\n",
              "    }\n",
              "    .progress-bar-interrupted, .progress-bar-interrupted::-webkit-progress-bar {\n",
              "        background: #F44336;\n",
              "    }\n",
              "</style>\n"
            ]
          },
          "metadata": {}
        },
        {
          "output_type": "display_data",
          "data": {
            "text/plain": [
              "<IPython.core.display.HTML object>"
            ],
            "text/html": [
              "<table border=\"1\" class=\"dataframe\">\n",
              "  <thead>\n",
              "    <tr style=\"text-align: left;\">\n",
              "      <th>epoch</th>\n",
              "      <th>train_loss</th>\n",
              "      <th>valid_loss</th>\n",
              "      <th>accuracy</th>\n",
              "      <th>time</th>\n",
              "    </tr>\n",
              "  </thead>\n",
              "  <tbody>\n",
              "    <tr>\n",
              "      <td>0</td>\n",
              "      <td>1.219334</td>\n",
              "      <td>1.369048</td>\n",
              "      <td>0.551700</td>\n",
              "      <td>05:26</td>\n",
              "    </tr>\n",
              "    <tr>\n",
              "      <td>1</td>\n",
              "      <td>0.899401</td>\n",
              "      <td>1.010078</td>\n",
              "      <td>0.664900</td>\n",
              "      <td>05:25</td>\n",
              "    </tr>\n",
              "    <tr>\n",
              "      <td>2</td>\n",
              "      <td>0.652211</td>\n",
              "      <td>0.700596</td>\n",
              "      <td>0.763700</td>\n",
              "      <td>05:24</td>\n",
              "    </tr>\n",
              "    <tr>\n",
              "      <td>3</td>\n",
              "      <td>0.462555</td>\n",
              "      <td>0.421031</td>\n",
              "      <td>0.855600</td>\n",
              "      <td>05:24</td>\n",
              "    </tr>\n",
              "    <tr>\n",
              "      <td>4</td>\n",
              "      <td>0.350748</td>\n",
              "      <td>0.372608</td>\n",
              "      <td>0.873500</td>\n",
              "      <td>05:24</td>\n",
              "    </tr>\n",
              "  </tbody>\n",
              "</table>"
            ]
          },
          "metadata": {}
        }
      ]
    },
    {
      "cell_type": "code",
      "source": [
        "learner.recorder.plot_lr()"
      ],
      "metadata": {
        "colab": {
          "base_uri": "https://localhost:8080/",
          "height": 279
        },
        "id": "KDX1VbDAGSEI",
        "outputId": "6a7cbfe7-39b6-4bf9-8dc7-6f2620067903"
      },
      "execution_count": 28,
      "outputs": [
        {
          "output_type": "display_data",
          "data": {
            "text/plain": [
              "<Figure size 432x288 with 1 Axes>"
            ],
            "image/png": "[encoded data removed]"
          },
          "metadata": {
            "needs_background": "light"
          }
        }
      ]
    },
    {
      "cell_type": "code",
      "source": [
        "learner.recorder.plot_losses()"
      ],
      "metadata": {
        "colab": {
          "base_uri": "https://localhost:8080/",
          "height": 279
        },
        "id": "i5HgArTXGSu6",
        "outputId": "4da94208-64cd-4302-d00f-52d1153c0a0e"
      },
      "execution_count": 29,
      "outputs": [
        {
          "output_type": "display_data",
          "data": {
            "text/plain": [
              "<Figure size 432x288 with 1 Axes>"
            ],
            "image/png": "[encoded data removed]"
          },
          "metadata": {
            "needs_background": "light"
          }
        }
      ]
    },
    {
      "cell_type": "code",
      "source": [
        "learner.recorder.plot_metrics()"
      ],
      "metadata": {
        "colab": {
          "base_uri": "https://localhost:8080/",
          "height": 279
        },
        "id": "KEEu8Ww6GWLd",
        "outputId": "1fd1bcf0-5c00-4fd9-d546-88219203c199"
      },
      "execution_count": 30,
      "outputs": [
        {
          "output_type": "display_data",
          "data": {
            "text/plain": [
              "<Figure size 432x288 with 1 Axes>"
            ],
            "image/png": "[encoded data removed]"
          },
          "metadata": {
            "needs_background": "light"
          }
        }
      ]
    }
  ]
}